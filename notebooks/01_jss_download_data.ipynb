{
 "cells": [
  {
   "cell_type": "code",
   "execution_count": 20,
   "id": "2329112b",
   "metadata": {},
   "outputs": [],
   "source": [
    "import requests\n",
    "import zipfile\n",
    "from pathlib import Path\n",
    "from utils.paths import DATA_RAW_DIR\n",
    "\n",
    "import json\n",
    "import codecs\n",
    "import numpy as np\n",
    "import pandas as pd\n",
    "import matplotlib.pyplot as plt\n",
    "import seaborn as sns\n",
    "from PIL import Image\n",
    "from io import BytesIO\n",
    "import base64\n",
    "from IPython.display import display\n"
   ]
  },
  {
   "cell_type": "code",
   "execution_count": 2,
   "id": "f5506f0b",
   "metadata": {},
   "outputs": [],
   "source": [
    "# Download data from URL\n",
    "\n",
    "def download_data_from_url(url: str, url_path: Path):\n",
    "    \"\"\"\n",
    "    Download data from a given URL and save it to the specified destination.\n",
    "    \n",
    "    Args:\n",
    "        url (str): The URL to download the data from.\n",
    "        url_path (Path): The destination path where the downloaded file will be saved.\n",
    "    \"\"\"\n",
    "    if not url_path.exists():\n",
    "        response = requests.get(url)\n",
    "        response.raise_for_status()\n",
    "        with open(url_path, 'wb') as file:\n",
    "            file.write(response.content)\n",
    "        print(f\"Downloaded data from {url} to {url_path}\")\n",
    "    else:\n",
    "        print(f\"File already exists at {url_path}, skipping download.\")"
   ]
  },
  {
   "cell_type": "code",
   "execution_count": 3,
   "id": "1639bd64",
   "metadata": {},
   "outputs": [],
   "source": [
    "# Unzip the downloaded file\n",
    "def unzip_file(zip_path: Path, extract_to: Path):\n",
    "    \"\"\"\n",
    "    Unzip a zip file to the specified directory.\n",
    "\n",
    "    Args:\n",
    "        zip_path (Path): The path to the zip file.\n",
    "        extract_to (Path): The directory where the contents will be extracted.\n",
    "    \"\"\"\n",
    "    extract_to.mkdir(parents=True, exist_ok=True)\n",
    "    with zipfile.ZipFile(zip_path, 'r') as zip_ref:\n",
    "        zip_ref.extractall(extract_to)\n",
    "    print(f\"Unzipped {zip_path} to {extract_to}\")\n",
    "    zip_path.unlink() "
   ]
  },
  {
   "cell_type": "code",
   "execution_count": 4,
   "id": "a7825c66",
   "metadata": {},
   "outputs": [
    {
     "name": "stdout",
     "output_type": "stream",
     "text": [
      "Downloaded data from https://storage.googleapis.com/platzi-tf2/databasesLoadData.zip to /Users/jssdev/Dev/Learning/Platzi/platzi-neural-networks-tf/data/raw/sign_language.zip\n",
      "Unzipped /Users/jssdev/Dev/Learning/Platzi/platzi-neural-networks-tf/data/raw/sign_language.zip to /Users/jssdev/Dev/Learning/Platzi/platzi-neural-networks-tf/data/raw/sign_language\n"
     ]
    }
   ],
   "source": [
    "url = \"https://storage.googleapis.com/platzi-tf2/databasesLoadData.zip\"\n",
    "zip_path = DATA_RAW_DIR / \"sign_language.zip\"\n",
    "extract_to = DATA_RAW_DIR / \"sign_language\"\n",
    "\n",
    "download_data_from_url(url, zip_path)\n",
    "unzip_file(zip_path, extract_to)"
   ]
  },
  {
   "cell_type": "code",
   "execution_count": 5,
   "id": "e9bbe18a",
   "metadata": {},
   "outputs": [],
   "source": [
    "def load_json_lines(json_path: Path) -> list[dict]:\n",
    "    \"\"\"Load a JSON file with one JSON object per line.\"\"\"\n",
    "    data_json = []\n",
    "    with open(json_path, 'r', encoding='utf-8') as file:\n",
    "        for line in file:\n",
    "            data_json.append(json.loads(line.strip()))\n",
    "    print(f\"{len(data_json)} found images.\")\n",
    "    return data_json"
   ]
  },
  {
   "cell_type": "code",
   "execution_count": 6,
   "id": "37e4dc08",
   "metadata": {},
   "outputs": [],
   "source": [
    "def download_image_from_url(url: str, to_grayscale: bool = True) -> np.ndarray:\n",
    "    \"\"\"Download an image from a URL and return it as a NumPy array.\"\"\"\n",
    "    response = requests.get(url)\n",
    "    response.raise_for_status()\n",
    "    image = Image.open(BytesIO(response.content))\n",
    "    if to_grayscale:\n",
    "        image = image.convert(\"L\")\n",
    "    return np.array(image)"
   ]
  },
  {
   "cell_type": "code",
   "execution_count": 7,
   "id": "749f0fba",
   "metadata": {},
   "outputs": [],
   "source": [
    "def load_images_with_labels(data_json: list[dict]) -> list[tuple[np.ndarray, str]]:\n",
    "    \"\"\"Download all images from JSON and return them with labels.\"\"\"\n",
    "    images = []\n",
    "    for item in data_json:\n",
    "        img_array = download_image_from_url(item[\"content\"])\n",
    "        images.append((img_array, item[\"label\"]))\n",
    "    return images"
   ]
  },
  {
   "cell_type": "code",
   "execution_count": 8,
   "id": "ea53309c",
   "metadata": {},
   "outputs": [],
   "source": [
    "def show_image(image: np.ndarray, label: str):\n",
    "    \"\"\"Display an image using matplotlib.\"\"\"\n",
    "    plt.imshow(image, cmap=\"gray\")\n",
    "    plt.title(f\"Label: {label}\")\n",
    "    plt.axis(\"off\")\n",
    "    plt.show()"
   ]
  },
  {
   "cell_type": "code",
   "execution_count": 9,
   "id": "e7cf3e82",
   "metadata": {},
   "outputs": [
    {
     "name": "stdout",
     "output_type": "stream",
     "text": [
      "9 found images.\n"
     ]
    },
    {
     "data": {
      "image/png": "[encoded data removed]",
      "text/plain": [
       "<Figure size 640x480 with 1 Axes>"
      ]
     },
     "metadata": {},
     "output_type": "display_data"
    }
   ],
   "source": [
    "json_path = Path(\"data/raw/sign_language/sign_mnist_json/data.json\")\n",
    "\n",
    "data_json = load_json_lines(json_path)\n",
    "images_with_labels = load_images_with_labels(data_json)\n",
    "\n",
    "# Mostrar una imagen de ejemplo\n",
    "show_image(images_with_labels[0][0], images_with_labels[0][1])"
   ]
  },
  {
   "cell_type": "code",
   "execution_count": 10,
   "id": "eee3d961",
   "metadata": {},
   "outputs": [],
   "source": [
    "\n",
    "def load_base64_image_from_json(json_path: Path, key: str = \"b\") -> Image.Image:\n",
    "    \"\"\"\n",
    "    Load an image encoded in base64 from a JSON file and return it as a PIL Image.\n",
    "    \n",
    "    Args:\n",
    "        json_path (Path): Path to the JSON file.\n",
    "        key (str): The key in the JSON that holds the base64 string.\n",
    "        \n",
    "    Returns:\n",
    "        PIL.Image: The decoded image.\n",
    "    \"\"\"\n",
    "    with open(json_path, 'r', encoding='utf-8') as f:\n",
    "        data = json.load(f)\n",
    "    \n",
    "    base64_bytes = data[key].encode('utf-8')\n",
    "    decoded_bytes = base64.b64decode(base64_bytes)\n",
    "    \n",
    "    img = Image.open(BytesIO(decoded_bytes))\n",
    "    return img"
   ]
  },
  {
   "cell_type": "code",
   "execution_count": 11,
   "id": "690cfaad",
   "metadata": {},
   "outputs": [
    {
     "data": {
      "image/jpeg": "[encoded data removed]",
      "image/png": "[encoded data removed]",
      "text/plain": [
       "<PIL.JpegImagePlugin.JpegImageFile image mode=L size=28x28>"
      ]
     },
     "metadata": {},
     "output_type": "display_data"
    }
   ],
   "source": [
    "json_path = Path(\"data/raw/sign_language/sign_mnist_base64/data.json\")\n",
    "img = load_base64_image_from_json(json_path)\n",
    "\n",
    "# Display image\n",
    "display(img)"
   ]
  },
  {
   "cell_type": "code",
   "execution_count": 12,
   "id": "c46f9fd7",
   "metadata": {},
   "outputs": [],
   "source": [
    "\n",
    "def load_sign_mnist_csv(csv_path: Path):\n",
    "    \"\"\"\n",
    "    Load the Sign MNIST dataset from a CSV file.\n",
    "    \n",
    "    Returns:\n",
    "        images (np.ndarray): Array of shape (n_samples, 28, 28)\n",
    "        labels (np.ndarray): Array of labels\n",
    "    \"\"\"\n",
    "    df = pd.read_csv(csv_path)\n",
    "    labels = df['label'].values\n",
    "    df.drop('label', axis=1, inplace=True)\n",
    "    images = df.values.reshape(-1, 28, 28)\n",
    "    return images, labels"
   ]
  },
  {
   "cell_type": "code",
   "execution_count": 13,
   "id": "a1f8c059",
   "metadata": {},
   "outputs": [],
   "source": [
    "def plot_image(image: np.ndarray, label: int):\n",
    "    \"\"\"\n",
    "    Show a single image using matplotlib.\n",
    "    \"\"\"\n",
    "    plt.imshow(image, cmap='gray')\n",
    "    plt.title(f\"Label: {label}\")\n",
    "    plt.axis('off')\n",
    "    plt.show()\n"
   ]
  },
  {
   "cell_type": "code",
   "execution_count": 14,
   "id": "887ea39f",
   "metadata": {},
   "outputs": [
    {
     "data": {
      "image/png": "[encoded data removed]",
      "text/plain": [
       "<Figure size 640x480 with 1 Axes>"
      ]
     },
     "metadata": {},
     "output_type": "display_data"
    }
   ],
   "source": [
    "train_csv = Path(\"data/raw/sign_language/sign_mnist_train/sign_mnist_train.csv\")\n",
    "test_csv = Path(\"data/raw/sign_language/sign_mnist_test/sign_mnist_test.csv\")\n",
    "\n",
    "train_images, train_labels = load_sign_mnist_csv(train_csv)\n",
    "test_images, test_labels = load_sign_mnist_csv(test_csv)\n",
    "\n",
    "plot_image(train_images[1], train_labels[1])"
   ]
  },
  {
   "cell_type": "code",
   "execution_count": 15,
   "id": "05729955",
   "metadata": {},
   "outputs": [
    {
     "name": "stdout",
     "output_type": "stream",
     "text": [
      "True\n"
     ]
    }
   ],
   "source": [
    "path_sign_clean = str(\n",
    "    DATA_RAW_DIR / \"sign_language/sign_mnist_train/sign_mnist_train_clean.csv\")\n",
    "print(Path(path_sign_clean).exists())"
   ]
  },
  {
   "cell_type": "code",
   "execution_count": 16,
   "id": "35f05468",
   "metadata": {},
   "outputs": [
    {
     "name": "stderr",
     "output_type": "stream",
     "text": [
      "/var/folders/_t/h3_2dkhs547fvj9rymbnvxjm0000gn/T/ipykernel_2921/3966217614.py:1: DtypeWarning: Columns (1,2,3,4,5,6,7,8,9,10,11,12,13,14,15,16,17,18,19,20,21,22,23,24,25,26,27,28,29,30,31,32,33,34,35,36,37,38,39,40,41,42,43,44,45,46,47,48,49,50,51,52,53,54,55,56,57,58,59,60,61,62,63,64,65,66,67,68,69,70,71,72,73,74,75,76,77,78,79,80,81,82,83,84,85,86,87,88,89,90,91,92,93,94,95,96,97,98,99,100,101,102,103,104,105,106,107,108,109,110,111,112,113,114,115,116,117,118,119,120,121,122,123,124,125,126,127,128,129,130,131,132,133,134,135,136,137,138,139,140,141,142,143,144,145,146,147,148,149,150,151,152,153,154,155,156,157,158,159,160,161,162,163,164,165,166,167,168,169,170,171,172,173,174,175,176,177,178,179,180,181,182,183,184,185,186,187,188,189,190,191,192,193,194,195,196,197,198,199,200,201,202,203,204,205,206,207,208,209,210,211,212,213,214,215,216,217,218,219,220,221,222,223,224,225,226,227,228,229,230,231,232,233,234,235,236,237,238,239,240,241,242,243,244,245,246,247,248,249,250,251,252,253,254,255,256,257,258,259,260,261,262,263,264,265,266,267,268,269,270,271,272,273,274,275,276,277,278,279,280,281,282,283,284,285,286,287,288,289,290,291,292,293,294,295,296,297,298,299,300,301,302,303,304,305,306,307,308,309,310,311,312,313,314,315,316,317,318,319,320,321,322,323,324,325,326,327,328,329,330,331,332,333,334,335,336,337,338,339,340,341,342,343,344,345,346,347,348,349,350,351,352,353,354,355,356,357,358,359,360,361,362,363,364,365,366,367,368,369,370,371,372,373,374,375,376,377,378,379,380,381,382,383,384,385,386,387,388,389,390,391,392,393,394,395,396,397,398,399,400,401,402,403,404,405,406,407,408,409,410,411,412,413,414,415,416,417,418,419,420,421,422,423,424,425,426,427,428,429,430,431,432,433,434,435,436,437,438,439,440,441,442,443,444,445,446,447,448,449,450,451,452,453,454,455,456,457,458,459,460,461,462,463,464,465,466,467,468,469,470,471,472,473,474,475,476,477,478,479,480,481,482,483,484,485,486,487,488,489,490,491,492,493,494,495,496,497,498,499,500,501,502,503,504,505,506,507,508,509,510,511,512,513,514,515,516,517,518,519,520,521,522,523,524,525,526,527,528,529,530,531,532,533,534,535,536,537,538,539,540,541,542,543,544,545,546,547,548,549,550,551,552,553,554,555,556,557,558,559,560,561,562,563,564,565,566,567,568,569,570,571,572,573,574,575,576,577,578,579,580,581,582,583,584,585,586,587,588,589,590,591,592,593,594,595,596,597,598,599,600,601,602,603,604,605,606,607,608,609,610,611,612,613,614,615,616,617,618,619,620,621,622,623,624,625,626,627,628,629,630,631,632,633,634,635,636,637,638,639,640,641,642,643,644,645,646,647,648,649,650,651,652,653,654,655,656,657,658,659,660,661,662,663,664,665,666,667,668,669,670,671,672,673,674,675,676,677,678,679,680,681,682,683,684,685,686,687,688,689,690,691,692,693,694,695,696,697,698,699,700,701,702,703,704,705,706,707,708,709,710,711,712,713,714,715,716,717,718,719,720,721,722,723,724,725,726,727,728,729,730,731,732,733,734,735,736,737,738,739,740,741,742,743,744,745,746,747,748,749,750,751,752,753,754,755,756,757,758,759,760,761,762,763,764,765,766,767,768,769,770,771,772,773,774,775,776,777,778,779,780,781,782,783,784) have mixed types. Specify dtype option on import or set low_memory=False.\n",
      "  df_train_clean = pd.read_csv(path_sign_clean, sep=',', encoding='utf-8')\n"
     ]
    },
    {
     "data": {
      "application/vnd.microsoft.datawrangler.viewer.v0+json": {
       "columns": [
        {
         "name": "index",
         "rawType": "int64",
         "type": "integer"
        },
        {
         "name": "label",
         "rawType": "int64",
         "type": "integer"
        },
        {
         "name": "pixel1",
         "rawType": "object",
         "type": "string"
        },
        {
         "name": "pixel2",
         "rawType": "object",
         "type": "string"
        },
        {
         "name": "pixel3",
         "rawType": "object",
         "type": "string"
        },
        {
         "name": "pixel4",
         "rawType": "object",
         "type": "string"
        },
        {
         "name": "pixel5",
         "rawType": "object",
         "type": "string"
        },
        {
         "name": "pixel6",
         "rawType": "object",
         "type": "string"
        },
        {
         "name": "pixel7",
         "rawType": "object",
         "type": "string"
        },
        {
         "name": "pixel8",
         "rawType": "object",
         "type": "string"
        },
        {
         "name": "pixel9",
         "rawType": "object",
         "type": "string"
        },
        {
         "name": "pixel10",
         "rawType": "object",
         "type": "string"
        },
        {
         "name": "pixel11",
         "rawType": "object",
         "type": "string"
        },
        {
         "name": "pixel12",
         "rawType": "object",
         "type": "string"
        },
        {
         "name": "pixel13",
         "rawType": "object",
         "type": "string"
        },
        {
         "name": "pixel14",
         "rawType": "object",
         "type": "string"
        },
        {
         "name": "pixel15",
         "rawType": "object",
         "type": "string"
        },
        {
         "name": "pixel16",
         "rawType": "object",
         "type": "string"
        },
        {
         "name": "pixel17",
         "rawType": "object",
         "type": "string"
        },
        {
         "name": "pixel18",
         "rawType": "object",
         "type": "string"
        },
        {
         "name": "pixel19",
         "rawType": "object",
         "type": "string"
        },
        {
         "name": "pixel20",
         "rawType": "object",
         "type": "string"
        },
        {
         "name": "pixel21",
         "rawType": "object",
         "type": "string"
        },
        {
         "name": "pixel22",
         "rawType": "object",
         "type": "string"
        },
        {
         "name": "pixel23",
         "rawType": "object",
         "type": "string"
        },
        {
         "name": "pixel24",
         "rawType": "object",
         "type": "string"
        },
        {
         "name": "pixel25",
         "rawType": "object",
         "type": "string"
        },
        {
         "name": "pixel26",
         "rawType": "object",
         "type": "string"
        },
        {
         "name": "pixel27",
         "rawType": "object",
         "type": "string"
        },
        {
         "name": "pixel28",
         "rawType": "object",
         "type": "string"
        },
        {
         "name": "pixel29",
         "rawType": "object",
         "type": "string"
        },
        {
         "name": "pixel30",
         "rawType": "object",
         "type": "string"
        },
        {
         "name": "pixel31",
         "rawType": "object",
         "type": "string"
        },
        {
         "name": "pixel32",
         "rawType": "object",
         "type": "string"
        },
        {
         "name": "pixel33",
         "rawType": "object",
         "type": "string"
        },
        {
         "name": "pixel34",
         "rawType": "object",
         "type": "string"
        },
        {
         "name": "pixel35",
         "rawType": "object",
         "type": "string"
        },
        {
         "name": "pixel36",
         "rawType": "object",
         "type": "string"
        },
        {
         "name": "pixel37",
         "rawType": "object",
         "type": "string"
        },
        {
         "name": "pixel38",
         "rawType": "object",
         "type": "string"
        },
        {
         "name": "pixel39",
         "rawType": "object",
         "type": "string"
        },
        {
         "name": "pixel40",
         "rawType": "object",
         "type": "string"
        },
        {
         "name": "pixel41",
         "rawType": "object",
         "type": "string"
        },
        {
         "name": "pixel42",
         "rawType": "object",
         "type": "string"
        },
        {
         "name": "pixel43",
         "rawType": "object",
         "type": "string"
        },
        {
         "name": "pixel44",
         "rawType": "object",
         "type": "string"
        },
        {
         "name": "pixel45",
         "rawType": "object",
         "type": "string"
        },
        {
         "name": "pixel46",
         "rawType": "object",
         "type": "string"
        },
        {
         "name": "pixel47",
         "rawType": "object",
         "type": "string"
        },
        {
         "name": "pixel48",
         "rawType": "object",
         "type": "string"
        },
        {
         "name": "pixel49",
         "rawType": "object",
         "type": "string"
        },
        {
         "name": "pixel50",
         "rawType": "object",
         "type": "string"
        },
        {
         "name": "pixel51",
         "rawType": "object",
         "type": "string"
        },
        {
         "name": "pixel52",
         "rawType": "object",
         "type": "string"
        },
        {
         "name": "pixel53",
         "rawType": "object",
         "type": "string"
        },
        {
         "name": "pixel54",
         "rawType": "object",
         "type": "string"
        },
        {
         "name": "pixel55",
         "rawType": "object",
         "type": "string"
        },
        {
         "name": "pixel56",
         "rawType": "object",
         "type": "string"
        },
        {
         "name": "pixel57",
         "rawType": "object",
         "type": "string"
        },
        {
         "name": "pixel58",
         "rawType": "object",
         "type": "string"
        },
        {
         "name": "pixel59",
         "rawType": "object",
         "type": "string"
        },
        {
         "name": "pixel60",
         "rawType": "object",
         "type": "string"
        },
        {
         "name": "pixel61",
         "rawType": "object",
         "type": "string"
        },
        {
         "name": "pixel62",
         "rawType": "object",
         "type": "string"
        },
        {
         "name": "pixel63",
         "rawType": "object",
         "type": "string"
        },
        {
         "name": "pixel64",
         "rawType": "object",
         "type": "string"
        },
        {
         "name": "pixel65",
         "rawType": "object",
         "type": "string"
        },
        {
         "name": "pixel66",
         "rawType": "object",
         "type": "string"
        },
        {
         "name": "pixel67",
         "rawType": "object",
         "type": "string"
        },
        {
         "name": "pixel68",
         "rawType": "object",
         "type": "string"
        },
        {
         "name": "pixel69",
         "rawType": "object",
         "type": "string"
        },
        {
         "name": "pixel70",
         "rawType": "object",
         "type": "string"
        },
        {
         "name": "pixel71",
         "rawType": "object",
         "type": "string"
        },
        {
         "name": "pixel72",
         "rawType": "object",
         "type": "string"
        },
        {
         "name": "pixel73",
         "rawType": "object",
         "type": "string"
        },
        {
         "name": "pixel74",
         "rawType": "object",
         "type": "string"
        },
        {
         "name": "pixel75",
         "rawType": "object",
         "type": "string"
        },
        {
         "name": "pixel76",
         "rawType": "object",
         "type": "string"
        },
        {
         "name": "pixel77",
         "rawType": "object",
         "type": "string"
        },
        {
         "name": "pixel78",
         "rawType": "object",
         "type": "string"
        },
        {
         "name": "pixel79",
         "rawType": "object",
         "type": "string"
        },
        {
         "name": "pixel80",
         "rawType": "object",
         "type": "string"
        },
        {
         "name": "pixel81",
         "rawType": "object",
         "type": "string"
        },
        {
         "name": "pixel82",
         "rawType": "object",
         "type": "string"
        },
        {
         "name": "pixel83",
         "rawType": "object",
         "type": "string"
        },
        {
         "name": "pixel84",
         "rawType": "object",
         "type": "string"
        },
        {
         "name": "pixel85",
         "rawType": "object",
         "type": "string"
        },
        {
         "name": "pixel86",
         "rawType": "object",
         "type": "string"
        },
        {
         "name": "pixel87",
         "rawType": "object",
         "type": "string"
        },
        {
         "name": "pixel88",
         "rawType": "object",
         "type": "string"
        },
        {
         "name": "pixel89",
         "rawType": "object",
         "type": "string"
        },
        {
         "name": "pixel90",
         "rawType": "object",
         "type": "string"
        },
        {
         "name": "pixel91",
         "rawType": "object",
         "type": "string"
        },
        {
         "name": "pixel92",
         "rawType": "object",
         "type": "string"
        },
        {
         "name": "pixel93",
         "rawType": "object",
         "type": "string"
        },
        {
         "name": "pixel94",
         "rawType": "object",
         "type": "string"
        },
        {
         "name": "pixel95",
         "rawType": "object",
         "type": "string"
        },
        {
         "name": "pixel96",
         "rawType": "object",
         "type": "string"
        },
        {
         "name": "pixel97",
         "rawType": "object",
         "type": "string"
        },
        {
         "name": "pixel98",
         "rawType": "object",
         "type": "string"
        },
        {
         "name": "pixel99",
         "rawType": "object",
         "type": "string"
        },
        {
         "name": "pixel100",
         "rawType": "object",
         "type": "string"
        },
        {
         "name": "pixel101",
         "rawType": "object",
         "type": "string"
        },
        {
         "name": "pixel102",
         "rawType": "object",
         "type": "string"
        },
        {
         "name": "pixel103",
         "rawType": "object",
         "type": "string"
        },
        {
         "name": "pixel104",
         "rawType": "object",
         "type": "string"
        },
        {
         "name": "pixel105",
         "rawType": "object",
         "type": "string"
        },
        {
         "name": "pixel106",
         "rawType": "object",
         "type": "string"
        },
        {
         "name": "pixel107",
         "rawType": "object",
         "type": "string"
        },
        {
         "name": "pixel108",
         "rawType": "object",
         "type": "string"
        },
        {
         "name": "pixel109",
         "rawType": "object",
         "type": "string"
        },
        {
         "name": "pixel110",
         "rawType": "object",
         "type": "string"
        },
        {
         "name": "pixel111",
         "rawType": "object",
         "type": "string"
        },
        {
         "name": "pixel112",
         "rawType": "object",
         "type": "string"
        },
        {
         "name": "pixel113",
         "rawType": "object",
         "type": "string"
        },
        {
         "name": "pixel114",
         "rawType": "object",
         "type": "string"
        },
        {
         "name": "pixel115",
         "rawType": "object",
         "type": "string"
        },
        {
         "name": "pixel116",
         "rawType": "object",
         "type": "string"
        },
        {
         "name": "pixel117",
         "rawType": "object",
         "type": "string"
        },
        {
         "name": "pixel118",
         "rawType": "object",
         "type": "string"
        },
        {
         "name": "pixel119",
         "rawType": "object",
         "type": "string"
        },
        {
         "name": "pixel120",
         "rawType": "object",
         "type": "string"
        },
        {
         "name": "pixel121",
         "rawType": "object",
         "type": "string"
        },
        {
         "name": "pixel122",
         "rawType": "object",
         "type": "string"
        },
        {
         "name": "pixel123",
         "rawType": "object",
         "type": "string"
        },
        {
         "name": "pixel124",
         "rawType": "object",
         "type": "string"
        },
        {
         "name": "pixel125",
         "rawType": "object",
         "type": "string"
        },
        {
         "name": "pixel126",
         "rawType": "object",
         "type": "string"
        },
        {
         "name": "pixel127",
         "rawType": "object",
         "type": "string"
        },
        {
         "name": "pixel128",
         "rawType": "object",
         "type": "string"
        },
        {
         "name": "pixel129",
         "rawType": "object",
         "type": "string"
        },
        {
         "name": "pixel130",
         "rawType": "object",
         "type": "string"
        },
        {
         "name": "pixel131",
         "rawType": "object",
         "type": "string"
        },
        {
         "name": "pixel132",
         "rawType": "object",
         "type": "string"
        },
        {
         "name": "pixel133",
         "rawType": "object",
         "type": "string"
        },
        {
         "name": "pixel134",
         "rawType": "object",
         "type": "string"
        },
        {
         "name": "pixel135",
         "rawType": "object",
         "type": "string"
        },
        {
         "name": "pixel136",
         "rawType": "object",
         "type": "string"
        },
        {
         "name": "pixel137",
         "rawType": "object",
         "type": "string"
        },
        {
         "name": "pixel138",
         "rawType": "object",
         "type": "string"
        },
        {
         "name": "pixel139",
         "rawType": "object",
         "type": "string"
        },
        {
         "name": "pixel140",
         "rawType": "object",
         "type": "string"
        },
        {
         "name": "pixel141",
         "rawType": "object",
         "type": "string"
        },
        {
         "name": "pixel142",
         "rawType": "object",
         "type": "string"
        },
        {
         "name": "pixel143",
         "rawType": "object",
         "type": "string"
        },
        {
         "name": "pixel144",
         "rawType": "object",
         "type": "string"
        },
        {
         "name": "pixel145",
         "rawType": "object",
         "type": "string"
        },
        {
         "name": "pixel146",
         "rawType": "object",
         "type": "string"
        },
        {
         "name": "pixel147",
         "rawType": "object",
         "type": "string"
        },
        {
         "name": "pixel148",
         "rawType": "object",
         "type": "string"
        },
        {
         "name": "pixel149",
         "rawType": "object",
         "type": "string"
        },
        {
         "name": "pixel150",
         "rawType": "object",
         "type": "string"
        },
        {
         "name": "pixel151",
         "rawType": "object",
         "type": "string"
        },
        {
         "name": "pixel152",
         "rawType": "object",
         "type": "string"
        },
        {
         "name": "pixel153",
         "rawType": "object",
         "type": "string"
        },
        {
         "name": "pixel154",
         "rawType": "object",
         "type": "string"
        },
        {
         "name": "pixel155",
         "rawType": "object",
         "type": "string"
        },
        {
         "name": "pixel156",
         "rawType": "object",
         "type": "string"
        },
        {
         "name": "pixel157",
         "rawType": "object",
         "type": "string"
        },
        {
         "name": "pixel158",
         "rawType": "object",
         "type": "string"
        },
        {
         "name": "pixel159",
         "rawType": "object",
         "type": "string"
        },
        {
         "name": "pixel160",
         "rawType": "object",
         "type": "string"
        },
        {
         "name": "pixel161",
         "rawType": "object",
         "type": "string"
        },
        {
         "name": "pixel162",
         "rawType": "object",
         "type": "string"
        },
        {
         "name": "pixel163",
         "rawType": "object",
         "type": "string"
        },
        {
         "name": "pixel164",
         "rawType": "object",
         "type": "string"
        },
        {
         "name": "pixel165",
         "rawType": "object",
         "type": "string"
        },
        {
         "name": "pixel166",
         "rawType": "object",
         "type": "string"
        },
        {
         "name": "pixel167",
         "rawType": "object",
         "type": "string"
        },
        {
         "name": "pixel168",
         "rawType": "object",
         "type": "string"
        },
        {
         "name": "pixel169",
         "rawType": "object",
         "type": "string"
        },
        {
         "name": "pixel170",
         "rawType": "object",
         "type": "string"
        },
        {
         "name": "pixel171",
         "rawType": "object",
         "type": "string"
        },
        {
         "name": "pixel172",
         "rawType": "object",
         "type": "string"
        },
        {
         "name": "pixel173",
         "rawType": "object",
         "type": "string"
        },
        {
         "name": "pixel174",
         "rawType": "object",
         "type": "string"
        },
        {
         "name": "pixel175",
         "rawType": "object",
         "type": "string"
        },
        {
         "name": "pixel176",
         "rawType": "object",
         "type": "string"
        },
        {
         "name": "pixel177",
         "rawType": "object",
         "type": "string"
        },
        {
         "name": "pixel178",
         "rawType": "object",
         "type": "string"
        },
        {
         "name": "pixel179",
         "rawType": "object",
         "type": "string"
        },
        {
         "name": "pixel180",
         "rawType": "object",
         "type": "string"
        },
        {
         "name": "pixel181",
         "rawType": "object",
         "type": "string"
        },
        {
         "name": "pixel182",
         "rawType": "object",
         "type": "string"
        },
        {
         "name": "pixel183",
         "rawType": "object",
         "type": "string"
        },
        {
         "name": "pixel184",
         "rawType": "object",
         "type": "string"
        },
        {
         "name": "pixel185",
         "rawType": "object",
         "type": "string"
        },
        {
         "name": "pixel186",
         "rawType": "object",
         "type": "string"
        },
        {
         "name": "pixel187",
         "rawType": "object",
         "type": "string"
        },
        {
         "name": "pixel188",
         "rawType": "object",
         "type": "string"
        },
        {
         "name": "pixel189",
         "rawType": "object",
         "type": "string"
        },
        {
         "name": "pixel190",
         "rawType": "object",
         "type": "string"
        },
        {
         "name": "pixel191",
         "rawType": "object",
         "type": "string"
        },
        {
         "name": "pixel192",
         "rawType": "object",
         "type": "string"
        },
        {
         "name": "pixel193",
         "rawType": "object",
         "type": "string"
        },
        {
         "name": "pixel194",
         "rawType": "object",
         "type": "string"
        },
        {
         "name": "pixel195",
         "rawType": "object",
         "type": "string"
        },
        {
         "name": "pixel196",
         "rawType": "object",
         "type": "string"
        },
        {
         "name": "pixel197",
         "rawType": "object",
         "type": "string"
        },
        {
         "name": "pixel198",
         "rawType": "object",
         "type": "string"
        },
        {
         "name": "pixel199",
         "rawType": "object",
         "type": "string"
        },
        {
         "name": "pixel200",
         "rawType": "object",
         "type": "string"
        },
        {
         "name": "pixel201",
         "rawType": "object",
         "type": "string"
        },
        {
         "name": "pixel202",
         "rawType": "object",
         "type": "string"
        },
        {
         "name": "pixel203",
         "rawType": "object",
         "type": "string"
        },
        {
         "name": "pixel204",
         "rawType": "object",
         "type": "string"
        },
        {
         "name": "pixel205",
         "rawType": "object",
         "type": "string"
        },
        {
         "name": "pixel206",
         "rawType": "object",
         "type": "string"
        },
        {
         "name": "pixel207",
         "rawType": "object",
         "type": "string"
        },
        {
         "name": "pixel208",
         "rawType": "object",
         "type": "string"
        },
        {
         "name": "pixel209",
         "rawType": "object",
         "type": "string"
        },
        {
         "name": "pixel210",
         "rawType": "object",
         "type": "string"
        },
        {
         "name": "pixel211",
         "rawType": "object",
         "type": "string"
        },
        {
         "name": "pixel212",
         "rawType": "object",
         "type": "string"
        },
        {
         "name": "pixel213",
         "rawType": "object",
         "type": "string"
        },
        {
         "name": "pixel214",
         "rawType": "object",
         "type": "string"
        },
        {
         "name": "pixel215",
         "rawType": "object",
         "type": "string"
        },
        {
         "name": "pixel216",
         "rawType": "object",
         "type": "string"
        },
        {
         "name": "pixel217",
         "rawType": "object",
         "type": "string"
        },
        {
         "name": "pixel218",
         "rawType": "object",
         "type": "string"
        },
        {
         "name": "pixel219",
         "rawType": "object",
         "type": "string"
        },
        {
         "name": "pixel220",
         "rawType": "object",
         "type": "string"
        },
        {
         "name": "pixel221",
         "rawType": "object",
         "type": "string"
        },
        {
         "name": "pixel222",
         "rawType": "object",
         "type": "string"
        },
        {
         "name": "pixel223",
         "rawType": "object",
         "type": "string"
        },
        {
         "name": "pixel224",
         "rawType": "object",
         "type": "string"
        },
        {
         "name": "pixel225",
         "rawType": "object",
         "type": "string"
        },
        {
         "name": "pixel226",
         "rawType": "object",
         "type": "string"
        },
        {
         "name": "pixel227",
         "rawType": "object",
         "type": "string"
        },
        {
         "name": "pixel228",
         "rawType": "object",
         "type": "string"
        },
        {
         "name": "pixel229",
         "rawType": "object",
         "type": "string"
        },
        {
         "name": "pixel230",
         "rawType": "object",
         "type": "string"
        },
        {
         "name": "pixel231",
         "rawType": "object",
         "type": "string"
        },
        {
         "name": "pixel232",
         "rawType": "object",
         "type": "string"
        },
        {
         "name": "pixel233",
         "rawType": "object",
         "type": "string"
        },
        {
         "name": "pixel234",
         "rawType": "object",
         "type": "string"
        },
        {
         "name": "pixel235",
         "rawType": "object",
         "type": "string"
        },
        {
         "name": "pixel236",
         "rawType": "object",
         "type": "string"
        },
        {
         "name": "pixel237",
         "rawType": "object",
         "type": "string"
        },
        {
         "name": "pixel238",
         "rawType": "object",
         "type": "string"
        },
        {
         "name": "pixel239",
         "rawType": "object",
         "type": "string"
        },
        {
         "name": "pixel240",
         "rawType": "object",
         "type": "string"
        },
        {
         "name": "pixel241",
         "rawType": "object",
         "type": "string"
        },
        {
         "name": "pixel242",
         "rawType": "object",
         "type": "string"
        },
        {
         "name": "pixel243",
         "rawType": "object",
         "type": "string"
        },
        {
         "name": "pixel244",
         "rawType": "object",
         "type": "string"
        },
        {
         "name": "pixel245",
         "rawType": "object",
         "type": "string"
        },
        {
         "name": "pixel246",
         "rawType": "object",
         "type": "string"
        },
        {
         "name": "pixel247",
         "rawType": "object",
         "type": "string"
        },
        {
         "name": "pixel248",
         "rawType": "object",
         "type": "string"
        },
        {
         "name": "pixel249",
         "rawType": "object",
         "type": "string"
        },
        {
         "name": "pixel250",
         "rawType": "object",
         "type": "string"
        },
        {
         "name": "pixel251",
         "rawType": "object",
         "type": "string"
        },
        {
         "name": "pixel252",
         "rawType": "object",
         "type": "string"
        },
        {
         "name": "pixel253",
         "rawType": "object",
         "type": "string"
        },
        {
         "name": "pixel254",
         "rawType": "object",
         "type": "string"
        },
        {
         "name": "pixel255",
         "rawType": "object",
         "type": "string"
        },
        {
         "name": "pixel256",
         "rawType": "object",
         "type": "string"
        },
        {
         "name": "pixel257",
         "rawType": "object",
         "type": "string"
        },
        {
         "name": "pixel258",
         "rawType": "object",
         "type": "string"
        },
        {
         "name": "pixel259",
         "rawType": "object",
         "type": "string"
        },
        {
         "name": "pixel260",
         "rawType": "object",
         "type": "string"
        },
        {
         "name": "pixel261",
         "rawType": "object",
         "type": "string"
        },
        {
         "name": "pixel262",
         "rawType": "object",
         "type": "string"
        },
        {
         "name": "pixel263",
         "rawType": "object",
         "type": "string"
        },
        {
         "name": "pixel264",
         "rawType": "object",
         "type": "string"
        },
        {
         "name": "pixel265",
         "rawType": "object",
         "type": "string"
        },
        {
         "name": "pixel266",
         "rawType": "object",
         "type": "string"
        },
        {
         "name": "pixel267",
         "rawType": "object",
         "type": "string"
        },
        {
         "name": "pixel268",
         "rawType": "object",
         "type": "string"
        },
        {
         "name": "pixel269",
         "rawType": "object",
         "type": "string"
        },
        {
         "name": "pixel270",
         "rawType": "object",
         "type": "string"
        },
        {
         "name": "pixel271",
         "rawType": "object",
         "type": "string"
        },
        {
         "name": "pixel272",
         "rawType": "object",
         "type": "string"
        },
        {
         "name": "pixel273",
         "rawType": "object",
         "type": "string"
        },
        {
         "name": "pixel274",
         "rawType": "object",
         "type": "string"
        },
        {
         "name": "pixel275",
         "rawType": "object",
         "type": "string"
        },
        {
         "name": "pixel276",
         "rawType": "object",
         "type": "string"
        },
        {
         "name": "pixel277",
         "rawType": "object",
         "type": "string"
        },
        {
         "name": "pixel278",
         "rawType": "object",
         "type": "string"
        },
        {
         "name": "pixel279",
         "rawType": "object",
         "type": "string"
        },
        {
         "name": "pixel280",
         "rawType": "object",
         "type": "string"
        },
        {
         "name": "pixel281",
         "rawType": "object",
         "type": "string"
        },
        {
         "name": "pixel282",
         "rawType": "object",
         "type": "string"
        },
        {
         "name": "pixel283",
         "rawType": "object",
         "type": "string"
        },
        {
         "name": "pixel284",
         "rawType": "object",
         "type": "string"
        },
        {
         "name": "pixel285",
         "rawType": "object",
         "type": "string"
        },
        {
         "name": "pixel286",
         "rawType": "object",
         "type": "string"
        },
        {
         "name": "pixel287",
         "rawType": "object",
         "type": "string"
        },
        {
         "name": "pixel288",
         "rawType": "object",
         "type": "string"
        },
        {
         "name": "pixel289",
         "rawType": "object",
         "type": "string"
        },
        {
         "name": "pixel290",
         "rawType": "object",
         "type": "string"
        },
        {
         "name": "pixel291",
         "rawType": "object",
         "type": "string"
        },
        {
         "name": "pixel292",
         "rawType": "object",
         "type": "string"
        },
        {
         "name": "pixel293",
         "rawType": "object",
         "type": "string"
        },
        {
         "name": "pixel294",
         "rawType": "object",
         "type": "string"
        },
        {
         "name": "pixel295",
         "rawType": "object",
         "type": "string"
        },
        {
         "name": "pixel296",
         "rawType": "object",
         "type": "string"
        },
        {
         "name": "pixel297",
         "rawType": "object",
         "type": "string"
        },
        {
         "name": "pixel298",
         "rawType": "object",
         "type": "string"
        },
        {
         "name": "pixel299",
         "rawType": "object",
         "type": "string"
        },
        {
         "name": "pixel300",
         "rawType": "object",
         "type": "string"
        },
        {
         "name": "pixel301",
         "rawType": "object",
         "type": "string"
        },
        {
         "name": "pixel302",
         "rawType": "object",
         "type": "string"
        },
        {
         "name": "pixel303",
         "rawType": "object",
         "type": "string"
        },
        {
         "name": "pixel304",
         "rawType": "object",
         "type": "string"
        },
        {
         "name": "pixel305",
         "rawType": "object",
         "type": "string"
        },
        {
         "name": "pixel306",
         "rawType": "object",
         "type": "string"
        },
        {
         "name": "pixel307",
         "rawType": "object",
         "type": "string"
        },
        {
         "name": "pixel308",
         "rawType": "object",
         "type": "string"
        },
        {
         "name": "pixel309",
         "rawType": "object",
         "type": "string"
        },
        {
         "name": "pixel310",
         "rawType": "object",
         "type": "string"
        },
        {
         "name": "pixel311",
         "rawType": "object",
         "type": "string"
        },
        {
         "name": "pixel312",
         "rawType": "object",
         "type": "string"
        },
        {
         "name": "pixel313",
         "rawType": "object",
         "type": "string"
        },
        {
         "name": "pixel314",
         "rawType": "object",
         "type": "string"
        },
        {
         "name": "pixel315",
         "rawType": "object",
         "type": "string"
        },
        {
         "name": "pixel316",
         "rawType": "object",
         "type": "string"
        },
        {
         "name": "pixel317",
         "rawType": "object",
         "type": "string"
        },
        {
         "name": "pixel318",
         "rawType": "object",
         "type": "string"
        },
        {
         "name": "pixel319",
         "rawType": "object",
         "type": "string"
        },
        {
         "name": "pixel320",
         "rawType": "object",
         "type": "string"
        },
        {
         "name": "pixel321",
         "rawType": "object",
         "type": "string"
        },
        {
         "name": "pixel322",
         "rawType": "object",
         "type": "string"
        },
        {
         "name": "pixel323",
         "rawType": "object",
         "type": "string"
        },
        {
         "name": "pixel324",
         "rawType": "object",
         "type": "string"
        },
        {
         "name": "pixel325",
         "rawType": "object",
         "type": "string"
        },
        {
         "name": "pixel326",
         "rawType": "object",
         "type": "string"
        },
        {
         "name": "pixel327",
         "rawType": "object",
         "type": "string"
        },
        {
         "name": "pixel328",
         "rawType": "object",
         "type": "string"
        },
        {
         "name": "pixel329",
         "rawType": "object",
         "type": "string"
        },
        {
         "name": "pixel330",
         "rawType": "object",
         "type": "string"
        },
        {
         "name": "pixel331",
         "rawType": "object",
         "type": "string"
        },
        {
         "name": "pixel332",
         "rawType": "object",
         "type": "string"
        },
        {
         "name": "pixel333",
         "rawType": "object",
         "type": "string"
        },
        {
         "name": "pixel334",
         "rawType": "object",
         "type": "string"
        },
        {
         "name": "pixel335",
         "rawType": "object",
         "type": "string"
        },
        {
         "name": "pixel336",
         "rawType": "object",
         "type": "string"
        },
        {
         "name": "pixel337",
         "rawType": "object",
         "type": "string"
        },
        {
         "name": "pixel338",
         "rawType": "object",
         "type": "string"
        },
        {
         "name": "pixel339",
         "rawType": "object",
         "type": "string"
        },
        {
         "name": "pixel340",
         "rawType": "object",
         "type": "string"
        },
        {
         "name": "pixel341",
         "rawType": "object",
         "type": "string"
        },
        {
         "name": "pixel342",
         "rawType": "object",
         "type": "string"
        },
        {
         "name": "pixel343",
         "rawType": "object",
         "type": "string"
        },
        {
         "name": "pixel344",
         "rawType": "object",
         "type": "string"
        },
        {
         "name": "pixel345",
         "rawType": "object",
         "type": "string"
        },
        {
         "name": "pixel346",
         "rawType": "object",
         "type": "string"
        },
        {
         "name": "pixel347",
         "rawType": "object",
         "type": "string"
        },
        {
         "name": "pixel348",
         "rawType": "object",
         "type": "string"
        },
        {
         "name": "pixel349",
         "rawType": "object",
         "type": "string"
        },
        {
         "name": "pixel350",
         "rawType": "object",
         "type": "string"
        },
        {
         "name": "pixel351",
         "rawType": "object",
         "type": "string"
        },
        {
         "name": "pixel352",
         "rawType": "object",
         "type": "string"
        },
        {
         "name": "pixel353",
         "rawType": "object",
         "type": "string"
        },
        {
         "name": "pixel354",
         "rawType": "object",
         "type": "string"
        },
        {
         "name": "pixel355",
         "rawType": "object",
         "type": "string"
        },
        {
         "name": "pixel356",
         "rawType": "object",
         "type": "string"
        },
        {
         "name": "pixel357",
         "rawType": "object",
         "type": "string"
        },
        {
         "name": "pixel358",
         "rawType": "object",
         "type": "string"
        },
        {
         "name": "pixel359",
         "rawType": "object",
         "type": "string"
        },
        {
         "name": "pixel360",
         "rawType": "object",
         "type": "string"
        },
        {
         "name": "pixel361",
         "rawType": "object",
         "type": "string"
        },
        {
         "name": "pixel362",
         "rawType": "object",
         "type": "string"
        },
        {
         "name": "pixel363",
         "rawType": "object",
         "type": "string"
        },
        {
         "name": "pixel364",
         "rawType": "object",
         "type": "string"
        },
        {
         "name": "pixel365",
         "rawType": "object",
         "type": "string"
        },
        {
         "name": "pixel366",
         "rawType": "object",
         "type": "string"
        },
        {
         "name": "pixel367",
         "rawType": "object",
         "type": "string"
        },
        {
         "name": "pixel368",
         "rawType": "object",
         "type": "string"
        },
        {
         "name": "pixel369",
         "rawType": "object",
         "type": "string"
        },
        {
         "name": "pixel370",
         "rawType": "object",
         "type": "string"
        },
        {
         "name": "pixel371",
         "rawType": "object",
         "type": "string"
        },
        {
         "name": "pixel372",
         "rawType": "object",
         "type": "string"
        },
        {
         "name": "pixel373",
         "rawType": "object",
         "type": "string"
        },
        {
         "name": "pixel374",
         "rawType": "object",
         "type": "string"
        },
        {
         "name": "pixel375",
         "rawType": "object",
         "type": "string"
        },
        {
         "name": "pixel376",
         "rawType": "object",
         "type": "string"
        },
        {
         "name": "pixel377",
         "rawType": "object",
         "type": "string"
        },
        {
         "name": "pixel378",
         "rawType": "object",
         "type": "string"
        },
        {
         "name": "pixel379",
         "rawType": "object",
         "type": "string"
        },
        {
         "name": "pixel380",
         "rawType": "object",
         "type": "string"
        },
        {
         "name": "pixel381",
         "rawType": "object",
         "type": "string"
        },
        {
         "name": "pixel382",
         "rawType": "object",
         "type": "string"
        },
        {
         "name": "pixel383",
         "rawType": "object",
         "type": "string"
        },
        {
         "name": "pixel384",
         "rawType": "object",
         "type": "string"
        },
        {
         "name": "pixel385",
         "rawType": "object",
         "type": "string"
        },
        {
         "name": "pixel386",
         "rawType": "object",
         "type": "string"
        },
        {
         "name": "pixel387",
         "rawType": "object",
         "type": "string"
        },
        {
         "name": "pixel388",
         "rawType": "object",
         "type": "string"
        },
        {
         "name": "pixel389",
         "rawType": "object",
         "type": "string"
        },
        {
         "name": "pixel390",
         "rawType": "object",
         "type": "string"
        },
        {
         "name": "pixel391",
         "rawType": "object",
         "type": "string"
        },
        {
         "name": "pixel392",
         "rawType": "object",
         "type": "string"
        },
        {
         "name": "pixel393",
         "rawType": "object",
         "type": "string"
        },
        {
         "name": "pixel394",
         "rawType": "object",
         "type": "string"
        },
        {
         "name": "pixel395",
         "rawType": "object",
         "type": "string"
        },
        {
         "name": "pixel396",
         "rawType": "object",
         "type": "string"
        },
        {
         "name": "pixel397",
         "rawType": "object",
         "type": "string"
        },
        {
         "name": "pixel398",
         "rawType": "object",
         "type": "string"
        },
        {
         "name": "pixel399",
         "rawType": "object",
         "type": "string"
        },
        {
         "name": "pixel400",
         "rawType": "object",
         "type": "string"
        },
        {
         "name": "pixel401",
         "rawType": "object",
         "type": "string"
        },
        {
         "name": "pixel402",
         "rawType": "object",
         "type": "string"
        },
        {
         "name": "pixel403",
         "rawType": "object",
         "type": "string"
        },
        {
         "name": "pixel404",
         "rawType": "object",
         "type": "string"
        },
        {
         "name": "pixel405",
         "rawType": "object",
         "type": "string"
        },
        {
         "name": "pixel406",
         "rawType": "object",
         "type": "string"
        },
        {
         "name": "pixel407",
         "rawType": "object",
         "type": "string"
        },
        {
         "name": "pixel408",
         "rawType": "object",
         "type": "string"
        },
        {
         "name": "pixel409",
         "rawType": "object",
         "type": "string"
        },
        {
         "name": "pixel410",
         "rawType": "object",
         "type": "string"
        },
        {
         "name": "pixel411",
         "rawType": "object",
         "type": "string"
        },
        {
         "name": "pixel412",
         "rawType": "object",
         "type": "string"
        },
        {
         "name": "pixel413",
         "rawType": "object",
         "type": "string"
        },
        {
         "name": "pixel414",
         "rawType": "object",
         "type": "string"
        },
        {
         "name": "pixel415",
         "rawType": "object",
         "type": "string"
        },
        {
         "name": "pixel416",
         "rawType": "object",
         "type": "string"
        },
        {
         "name": "pixel417",
         "rawType": "object",
         "type": "string"
        },
        {
         "name": "pixel418",
         "rawType": "object",
         "type": "string"
        },
        {
         "name": "pixel419",
         "rawType": "object",
         "type": "string"
        },
        {
         "name": "pixel420",
         "rawType": "object",
         "type": "string"
        },
        {
         "name": "pixel421",
         "rawType": "object",
         "type": "string"
        },
        {
         "name": "pixel422",
         "rawType": "object",
         "type": "string"
        },
        {
         "name": "pixel423",
         "rawType": "object",
         "type": "string"
        },
        {
         "name": "pixel424",
         "rawType": "object",
         "type": "string"
        },
        {
         "name": "pixel425",
         "rawType": "object",
         "type": "string"
        },
        {
         "name": "pixel426",
         "rawType": "object",
         "type": "string"
        },
        {
         "name": "pixel427",
         "rawType": "object",
         "type": "string"
        },
        {
         "name": "pixel428",
         "rawType": "object",
         "type": "string"
        },
        {
         "name": "pixel429",
         "rawType": "object",
         "type": "string"
        },
        {
         "name": "pixel430",
         "rawType": "object",
         "type": "string"
        },
        {
         "name": "pixel431",
         "rawType": "object",
         "type": "string"
        },
        {
         "name": "pixel432",
         "rawType": "object",
         "type": "string"
        },
        {
         "name": "pixel433",
         "rawType": "object",
         "type": "string"
        },
        {
         "name": "pixel434",
         "rawType": "object",
         "type": "string"
        },
        {
         "name": "pixel435",
         "rawType": "object",
         "type": "string"
        },
        {
         "name": "pixel436",
         "rawType": "object",
         "type": "string"
        },
        {
         "name": "pixel437",
         "rawType": "object",
         "type": "string"
        },
        {
         "name": "pixel438",
         "rawType": "object",
         "type": "string"
        },
        {
         "name": "pixel439",
         "rawType": "object",
         "type": "string"
        },
        {
         "name": "pixel440",
         "rawType": "object",
         "type": "string"
        },
        {
         "name": "pixel441",
         "rawType": "object",
         "type": "string"
        },
        {
         "name": "pixel442",
         "rawType": "object",
         "type": "string"
        },
        {
         "name": "pixel443",
         "rawType": "object",
         "type": "string"
        },
        {
         "name": "pixel444",
         "rawType": "object",
         "type": "string"
        },
        {
         "name": "pixel445",
         "rawType": "object",
         "type": "string"
        },
        {
         "name": "pixel446",
         "rawType": "object",
         "type": "string"
        },
        {
         "name": "pixel447",
         "rawType": "object",
         "type": "string"
        },
        {
         "name": "pixel448",
         "rawType": "object",
         "type": "string"
        },
        {
         "name": "pixel449",
         "rawType": "object",
         "type": "string"
        },
        {
         "name": "pixel450",
         "rawType": "object",
         "type": "string"
        },
        {
         "name": "pixel451",
         "rawType": "object",
         "type": "string"
        },
        {
         "name": "pixel452",
         "rawType": "object",
         "type": "string"
        },
        {
         "name": "pixel453",
         "rawType": "object",
         "type": "string"
        },
        {
         "name": "pixel454",
         "rawType": "object",
         "type": "string"
        },
        {
         "name": "pixel455",
         "rawType": "object",
         "type": "string"
        },
        {
         "name": "pixel456",
         "rawType": "object",
         "type": "string"
        },
        {
         "name": "pixel457",
         "rawType": "object",
         "type": "string"
        },
        {
         "name": "pixel458",
         "rawType": "object",
         "type": "string"
        },
        {
         "name": "pixel459",
         "rawType": "object",
         "type": "string"
        },
        {
         "name": "pixel460",
         "rawType": "object",
         "type": "string"
        },
        {
         "name": "pixel461",
         "rawType": "object",
         "type": "string"
        },
        {
         "name": "pixel462",
         "rawType": "object",
         "type": "string"
        },
        {
         "name": "pixel463",
         "rawType": "object",
         "type": "string"
        },
        {
         "name": "pixel464",
         "rawType": "object",
         "type": "string"
        },
        {
         "name": "pixel465",
         "rawType": "object",
         "type": "string"
        },
        {
         "name": "pixel466",
         "rawType": "object",
         "type": "string"
        },
        {
         "name": "pixel467",
         "rawType": "object",
         "type": "string"
        },
        {
         "name": "pixel468",
         "rawType": "object",
         "type": "string"
        },
        {
         "name": "pixel469",
         "rawType": "object",
         "type": "string"
        },
        {
         "name": "pixel470",
         "rawType": "object",
         "type": "string"
        },
        {
         "name": "pixel471",
         "rawType": "object",
         "type": "string"
        },
        {
         "name": "pixel472",
         "rawType": "object",
         "type": "string"
        },
        {
         "name": "pixel473",
         "rawType": "object",
         "type": "string"
        },
        {
         "name": "pixel474",
         "rawType": "object",
         "type": "string"
        },
        {
         "name": "pixel475",
         "rawType": "object",
         "type": "string"
        },
        {
         "name": "pixel476",
         "rawType": "object",
         "type": "string"
        },
        {
         "name": "pixel477",
         "rawType": "object",
         "type": "string"
        },
        {
         "name": "pixel478",
         "rawType": "object",
         "type": "string"
        },
        {
         "name": "pixel479",
         "rawType": "object",
         "type": "string"
        },
        {
         "name": "pixel480",
         "rawType": "object",
         "type": "string"
        },
        {
         "name": "pixel481",
         "rawType": "object",
         "type": "string"
        },
        {
         "name": "pixel482",
         "rawType": "object",
         "type": "string"
        },
        {
         "name": "pixel483",
         "rawType": "object",
         "type": "string"
        },
        {
         "name": "pixel484",
         "rawType": "object",
         "type": "string"
        },
        {
         "name": "pixel485",
         "rawType": "object",
         "type": "string"
        },
        {
         "name": "pixel486",
         "rawType": "object",
         "type": "string"
        },
        {
         "name": "pixel487",
         "rawType": "object",
         "type": "string"
        },
        {
         "name": "pixel488",
         "rawType": "object",
         "type": "string"
        },
        {
         "name": "pixel489",
         "rawType": "object",
         "type": "string"
        },
        {
         "name": "pixel490",
         "rawType": "object",
         "type": "string"
        },
        {
         "name": "pixel491",
         "rawType": "object",
         "type": "string"
        },
        {
         "name": "pixel492",
         "rawType": "object",
         "type": "string"
        },
        {
         "name": "pixel493",
         "rawType": "object",
         "type": "string"
        },
        {
         "name": "pixel494",
         "rawType": "object",
         "type": "string"
        },
        {
         "name": "pixel495",
         "rawType": "object",
         "type": "string"
        },
        {
         "name": "pixel496",
         "rawType": "object",
         "type": "string"
        },
        {
         "name": "pixel497",
         "rawType": "object",
         "type": "string"
        },
        {
         "name": "pixel498",
         "rawType": "object",
         "type": "string"
        },
        {
         "name": "pixel499",
         "rawType": "object",
         "type": "string"
        },
        {
         "name": "pixel500",
         "rawType": "object",
         "type": "string"
        },
        {
         "name": "pixel501",
         "rawType": "object",
         "type": "string"
        },
        {
         "name": "pixel502",
         "rawType": "object",
         "type": "string"
        },
        {
         "name": "pixel503",
         "rawType": "object",
         "type": "string"
        },
        {
         "name": "pixel504",
         "rawType": "object",
         "type": "string"
        },
        {
         "name": "pixel505",
         "rawType": "object",
         "type": "string"
        },
        {
         "name": "pixel506",
         "rawType": "object",
         "type": "string"
        },
        {
         "name": "pixel507",
         "rawType": "object",
         "type": "string"
        },
        {
         "name": "pixel508",
         "rawType": "object",
         "type": "string"
        },
        {
         "name": "pixel509",
         "rawType": "object",
         "type": "string"
        },
        {
         "name": "pixel510",
         "rawType": "object",
         "type": "string"
        },
        {
         "name": "pixel511",
         "rawType": "object",
         "type": "string"
        },
        {
         "name": "pixel512",
         "rawType": "object",
         "type": "string"
        },
        {
         "name": "pixel513",
         "rawType": "object",
         "type": "string"
        },
        {
         "name": "pixel514",
         "rawType": "object",
         "type": "string"
        },
        {
         "name": "pixel515",
         "rawType": "object",
         "type": "string"
        },
        {
         "name": "pixel516",
         "rawType": "object",
         "type": "string"
        },
        {
         "name": "pixel517",
         "rawType": "object",
         "type": "string"
        },
        {
         "name": "pixel518",
         "rawType": "object",
         "type": "string"
        },
        {
         "name": "pixel519",
         "rawType": "object",
         "type": "string"
        },
        {
         "name": "pixel520",
         "rawType": "object",
         "type": "string"
        },
        {
         "name": "pixel521",
         "rawType": "object",
         "type": "string"
        },
        {
         "name": "pixel522",
         "rawType": "object",
         "type": "string"
        },
        {
         "name": "pixel523",
         "rawType": "object",
         "type": "string"
        },
        {
         "name": "pixel524",
         "rawType": "object",
         "type": "string"
        },
        {
         "name": "pixel525",
         "rawType": "object",
         "type": "string"
        },
        {
         "name": "pixel526",
         "rawType": "object",
         "type": "string"
        },
        {
         "name": "pixel527",
         "rawType": "object",
         "type": "string"
        },
        {
         "name": "pixel528",
         "rawType": "object",
         "type": "string"
        },
        {
         "name": "pixel529",
         "rawType": "object",
         "type": "string"
        },
        {
         "name": "pixel530",
         "rawType": "object",
         "type": "string"
        },
        {
         "name": "pixel531",
         "rawType": "object",
         "type": "string"
        },
        {
         "name": "pixel532",
         "rawType": "object",
         "type": "string"
        },
        {
         "name": "pixel533",
         "rawType": "object",
         "type": "string"
        },
        {
         "name": "pixel534",
         "rawType": "object",
         "type": "string"
        },
        {
         "name": "pixel535",
         "rawType": "object",
         "type": "string"
        },
        {
         "name": "pixel536",
         "rawType": "object",
         "type": "string"
        },
        {
         "name": "pixel537",
         "rawType": "object",
         "type": "string"
        },
        {
         "name": "pixel538",
         "rawType": "object",
         "type": "string"
        },
        {
         "name": "pixel539",
         "rawType": "object",
         "type": "string"
        },
        {
         "name": "pixel540",
         "rawType": "object",
         "type": "string"
        },
        {
         "name": "pixel541",
         "rawType": "object",
         "type": "string"
        },
        {
         "name": "pixel542",
         "rawType": "object",
         "type": "string"
        },
        {
         "name": "pixel543",
         "rawType": "object",
         "type": "string"
        },
        {
         "name": "pixel544",
         "rawType": "object",
         "type": "string"
        },
        {
         "name": "pixel545",
         "rawType": "object",
         "type": "string"
        },
        {
         "name": "pixel546",
         "rawType": "object",
         "type": "string"
        },
        {
         "name": "pixel547",
         "rawType": "object",
         "type": "string"
        },
        {
         "name": "pixel548",
         "rawType": "object",
         "type": "string"
        },
        {
         "name": "pixel549",
         "rawType": "object",
         "type": "string"
        },
        {
         "name": "pixel550",
         "rawType": "object",
         "type": "string"
        },
        {
         "name": "pixel551",
         "rawType": "object",
         "type": "string"
        },
        {
         "name": "pixel552",
         "rawType": "object",
         "type": "string"
        },
        {
         "name": "pixel553",
         "rawType": "object",
         "type": "string"
        },
        {
         "name": "pixel554",
         "rawType": "object",
         "type": "string"
        },
        {
         "name": "pixel555",
         "rawType": "object",
         "type": "string"
        },
        {
         "name": "pixel556",
         "rawType": "object",
         "type": "string"
        },
        {
         "name": "pixel557",
         "rawType": "object",
         "type": "string"
        },
        {
         "name": "pixel558",
         "rawType": "object",
         "type": "string"
        },
        {
         "name": "pixel559",
         "rawType": "object",
         "type": "string"
        },
        {
         "name": "pixel560",
         "rawType": "object",
         "type": "string"
        },
        {
         "name": "pixel561",
         "rawType": "object",
         "type": "string"
        },
        {
         "name": "pixel562",
         "rawType": "object",
         "type": "string"
        },
        {
         "name": "pixel563",
         "rawType": "object",
         "type": "string"
        },
        {
         "name": "pixel564",
         "rawType": "object",
         "type": "string"
        },
        {
         "name": "pixel565",
         "rawType": "object",
         "type": "string"
        },
        {
         "name": "pixel566",
         "rawType": "object",
         "type": "string"
        },
        {
         "name": "pixel567",
         "rawType": "object",
         "type": "string"
        },
        {
         "name": "pixel568",
         "rawType": "object",
         "type": "string"
        },
        {
         "name": "pixel569",
         "rawType": "object",
         "type": "string"
        },
        {
         "name": "pixel570",
         "rawType": "object",
         "type": "string"
        },
        {
         "name": "pixel571",
         "rawType": "object",
         "type": "string"
        },
        {
         "name": "pixel572",
         "rawType": "object",
         "type": "string"
        },
        {
         "name": "pixel573",
         "rawType": "object",
         "type": "string"
        },
        {
         "name": "pixel574",
         "rawType": "object",
         "type": "string"
        },
        {
         "name": "pixel575",
         "rawType": "object",
         "type": "string"
        },
        {
         "name": "pixel576",
         "rawType": "object",
         "type": "string"
        },
        {
         "name": "pixel577",
         "rawType": "object",
         "type": "string"
        },
        {
         "name": "pixel578",
         "rawType": "object",
         "type": "string"
        },
        {
         "name": "pixel579",
         "rawType": "object",
         "type": "string"
        },
        {
         "name": "pixel580",
         "rawType": "object",
         "type": "string"
        },
        {
         "name": "pixel581",
         "rawType": "object",
         "type": "string"
        },
        {
         "name": "pixel582",
         "rawType": "object",
         "type": "string"
        },
        {
         "name": "pixel583",
         "rawType": "object",
         "type": "string"
        },
        {
         "name": "pixel584",
         "rawType": "object",
         "type": "string"
        },
        {
         "name": "pixel585",
         "rawType": "object",
         "type": "string"
        },
        {
         "name": "pixel586",
         "rawType": "object",
         "type": "string"
        },
        {
         "name": "pixel587",
         "rawType": "object",
         "type": "string"
        },
        {
         "name": "pixel588",
         "rawType": "object",
         "type": "string"
        },
        {
         "name": "pixel589",
         "rawType": "object",
         "type": "string"
        },
        {
         "name": "pixel590",
         "rawType": "object",
         "type": "string"
        },
        {
         "name": "pixel591",
         "rawType": "object",
         "type": "string"
        },
        {
         "name": "pixel592",
         "rawType": "object",
         "type": "string"
        },
        {
         "name": "pixel593",
         "rawType": "object",
         "type": "string"
        },
        {
         "name": "pixel594",
         "rawType": "object",
         "type": "string"
        },
        {
         "name": "pixel595",
         "rawType": "object",
         "type": "string"
        },
        {
         "name": "pixel596",
         "rawType": "object",
         "type": "string"
        },
        {
         "name": "pixel597",
         "rawType": "object",
         "type": "string"
        },
        {
         "name": "pixel598",
         "rawType": "object",
         "type": "string"
        },
        {
         "name": "pixel599",
         "rawType": "object",
         "type": "string"
        },
        {
         "name": "pixel600",
         "rawType": "object",
         "type": "string"
        },
        {
         "name": "pixel601",
         "rawType": "object",
         "type": "string"
        },
        {
         "name": "pixel602",
         "rawType": "object",
         "type": "string"
        },
        {
         "name": "pixel603",
         "rawType": "object",
         "type": "string"
        },
        {
         "name": "pixel604",
         "rawType": "object",
         "type": "string"
        },
        {
         "name": "pixel605",
         "rawType": "object",
         "type": "string"
        },
        {
         "name": "pixel606",
         "rawType": "object",
         "type": "string"
        },
        {
         "name": "pixel607",
         "rawType": "object",
         "type": "string"
        },
        {
         "name": "pixel608",
         "rawType": "object",
         "type": "string"
        },
        {
         "name": "pixel609",
         "rawType": "object",
         "type": "string"
        },
        {
         "name": "pixel610",
         "rawType": "object",
         "type": "string"
        },
        {
         "name": "pixel611",
         "rawType": "object",
         "type": "string"
        },
        {
         "name": "pixel612",
         "rawType": "object",
         "type": "string"
        },
        {
         "name": "pixel613",
         "rawType": "object",
         "type": "string"
        },
        {
         "name": "pixel614",
         "rawType": "object",
         "type": "string"
        },
        {
         "name": "pixel615",
         "rawType": "object",
         "type": "string"
        },
        {
         "name": "pixel616",
         "rawType": "object",
         "type": "string"
        },
        {
         "name": "pixel617",
         "rawType": "object",
         "type": "string"
        },
        {
         "name": "pixel618",
         "rawType": "object",
         "type": "string"
        },
        {
         "name": "pixel619",
         "rawType": "object",
         "type": "string"
        },
        {
         "name": "pixel620",
         "rawType": "object",
         "type": "string"
        },
        {
         "name": "pixel621",
         "rawType": "object",
         "type": "string"
        },
        {
         "name": "pixel622",
         "rawType": "object",
         "type": "string"
        },
        {
         "name": "pixel623",
         "rawType": "object",
         "type": "string"
        },
        {
         "name": "pixel624",
         "rawType": "object",
         "type": "string"
        },
        {
         "name": "pixel625",
         "rawType": "object",
         "type": "string"
        },
        {
         "name": "pixel626",
         "rawType": "object",
         "type": "string"
        },
        {
         "name": "pixel627",
         "rawType": "object",
         "type": "string"
        },
        {
         "name": "pixel628",
         "rawType": "object",
         "type": "string"
        },
        {
         "name": "pixel629",
         "rawType": "object",
         "type": "string"
        },
        {
         "name": "pixel630",
         "rawType": "object",
         "type": "string"
        },
        {
         "name": "pixel631",
         "rawType": "object",
         "type": "string"
        },
        {
         "name": "pixel632",
         "rawType": "object",
         "type": "string"
        },
        {
         "name": "pixel633",
         "rawType": "object",
         "type": "string"
        },
        {
         "name": "pixel634",
         "rawType": "object",
         "type": "string"
        },
        {
         "name": "pixel635",
         "rawType": "object",
         "type": "string"
        },
        {
         "name": "pixel636",
         "rawType": "object",
         "type": "string"
        },
        {
         "name": "pixel637",
         "rawType": "object",
         "type": "string"
        },
        {
         "name": "pixel638",
         "rawType": "object",
         "type": "string"
        },
        {
         "name": "pixel639",
         "rawType": "object",
         "type": "string"
        },
        {
         "name": "pixel640",
         "rawType": "object",
         "type": "string"
        },
        {
         "name": "pixel641",
         "rawType": "object",
         "type": "string"
        },
        {
         "name": "pixel642",
         "rawType": "object",
         "type": "string"
        },
        {
         "name": "pixel643",
         "rawType": "object",
         "type": "string"
        },
        {
         "name": "pixel644",
         "rawType": "object",
         "type": "string"
        },
        {
         "name": "pixel645",
         "rawType": "object",
         "type": "string"
        },
        {
         "name": "pixel646",
         "rawType": "object",
         "type": "string"
        },
        {
         "name": "pixel647",
         "rawType": "object",
         "type": "string"
        },
        {
         "name": "pixel648",
         "rawType": "object",
         "type": "string"
        },
        {
         "name": "pixel649",
         "rawType": "object",
         "type": "string"
        },
        {
         "name": "pixel650",
         "rawType": "object",
         "type": "string"
        },
        {
         "name": "pixel651",
         "rawType": "object",
         "type": "string"
        },
        {
         "name": "pixel652",
         "rawType": "object",
         "type": "string"
        },
        {
         "name": "pixel653",
         "rawType": "object",
         "type": "string"
        },
        {
         "name": "pixel654",
         "rawType": "object",
         "type": "string"
        },
        {
         "name": "pixel655",
         "rawType": "object",
         "type": "string"
        },
        {
         "name": "pixel656",
         "rawType": "object",
         "type": "string"
        },
        {
         "name": "pixel657",
         "rawType": "object",
         "type": "string"
        },
        {
         "name": "pixel658",
         "rawType": "object",
         "type": "string"
        },
        {
         "name": "pixel659",
         "rawType": "object",
         "type": "string"
        },
        {
         "name": "pixel660",
         "rawType": "object",
         "type": "string"
        },
        {
         "name": "pixel661",
         "rawType": "object",
         "type": "string"
        },
        {
         "name": "pixel662",
         "rawType": "object",
         "type": "string"
        },
        {
         "name": "pixel663",
         "rawType": "object",
         "type": "string"
        },
        {
         "name": "pixel664",
         "rawType": "object",
         "type": "string"
        },
        {
         "name": "pixel665",
         "rawType": "object",
         "type": "string"
        },
        {
         "name": "pixel666",
         "rawType": "object",
         "type": "string"
        },
        {
         "name": "pixel667",
         "rawType": "object",
         "type": "string"
        },
        {
         "name": "pixel668",
         "rawType": "object",
         "type": "string"
        },
        {
         "name": "pixel669",
         "rawType": "object",
         "type": "string"
        },
        {
         "name": "pixel670",
         "rawType": "object",
         "type": "string"
        },
        {
         "name": "pixel671",
         "rawType": "object",
         "type": "string"
        },
        {
         "name": "pixel672",
         "rawType": "object",
         "type": "string"
        },
        {
         "name": "pixel673",
         "rawType": "object",
         "type": "string"
        },
        {
         "name": "pixel674",
         "rawType": "object",
         "type": "string"
        },
        {
         "name": "pixel675",
         "rawType": "object",
         "type": "string"
        },
        {
         "name": "pixel676",
         "rawType": "object",
         "type": "string"
        },
        {
         "name": "pixel677",
         "rawType": "object",
         "type": "string"
        },
        {
         "name": "pixel678",
         "rawType": "object",
         "type": "string"
        },
        {
         "name": "pixel679",
         "rawType": "object",
         "type": "string"
        },
        {
         "name": "pixel680",
         "rawType": "object",
         "type": "string"
        },
        {
         "name": "pixel681",
         "rawType": "object",
         "type": "string"
        },
        {
         "name": "pixel682",
         "rawType": "object",
         "type": "string"
        },
        {
         "name": "pixel683",
         "rawType": "object",
         "type": "string"
        },
        {
         "name": "pixel684",
         "rawType": "object",
         "type": "string"
        },
        {
         "name": "pixel685",
         "rawType": "object",
         "type": "string"
        },
        {
         "name": "pixel686",
         "rawType": "object",
         "type": "string"
        },
        {
         "name": "pixel687",
         "rawType": "object",
         "type": "string"
        },
        {
         "name": "pixel688",
         "rawType": "object",
         "type": "string"
        },
        {
         "name": "pixel689",
         "rawType": "object",
         "type": "string"
        },
        {
         "name": "pixel690",
         "rawType": "object",
         "type": "string"
        },
        {
         "name": "pixel691",
         "rawType": "object",
         "type": "string"
        },
        {
         "name": "pixel692",
         "rawType": "object",
         "type": "string"
        },
        {
         "name": "pixel693",
         "rawType": "object",
         "type": "string"
        },
        {
         "name": "pixel694",
         "rawType": "object",
         "type": "string"
        },
        {
         "name": "pixel695",
         "rawType": "object",
         "type": "string"
        },
        {
         "name": "pixel696",
         "rawType": "object",
         "type": "string"
        },
        {
         "name": "pixel697",
         "rawType": "object",
         "type": "string"
        },
        {
         "name": "pixel698",
         "rawType": "object",
         "type": "string"
        },
        {
         "name": "pixel699",
         "rawType": "object",
         "type": "string"
        },
        {
         "name": "pixel700",
         "rawType": "object",
         "type": "string"
        },
        {
         "name": "pixel701",
         "rawType": "object",
         "type": "string"
        },
        {
         "name": "pixel702",
         "rawType": "object",
         "type": "string"
        },
        {
         "name": "pixel703",
         "rawType": "object",
         "type": "string"
        },
        {
         "name": "pixel704",
         "rawType": "object",
         "type": "string"
        },
        {
         "name": "pixel705",
         "rawType": "object",
         "type": "string"
        },
        {
         "name": "pixel706",
         "rawType": "object",
         "type": "string"
        },
        {
         "name": "pixel707",
         "rawType": "object",
         "type": "string"
        },
        {
         "name": "pixel708",
         "rawType": "object",
         "type": "string"
        },
        {
         "name": "pixel709",
         "rawType": "object",
         "type": "string"
        },
        {
         "name": "pixel710",
         "rawType": "object",
         "type": "string"
        },
        {
         "name": "pixel711",
         "rawType": "object",
         "type": "string"
        },
        {
         "name": "pixel712",
         "rawType": "object",
         "type": "string"
        },
        {
         "name": "pixel713",
         "rawType": "object",
         "type": "string"
        },
        {
         "name": "pixel714",
         "rawType": "object",
         "type": "string"
        },
        {
         "name": "pixel715",
         "rawType": "object",
         "type": "string"
        },
        {
         "name": "pixel716",
         "rawType": "object",
         "type": "string"
        },
        {
         "name": "pixel717",
         "rawType": "object",
         "type": "string"
        },
        {
         "name": "pixel718",
         "rawType": "object",
         "type": "string"
        },
        {
         "name": "pixel719",
         "rawType": "object",
         "type": "string"
        },
        {
         "name": "pixel720",
         "rawType": "object",
         "type": "string"
        },
        {
         "name": "pixel721",
         "rawType": "object",
         "type": "string"
        },
        {
         "name": "pixel722",
         "rawType": "object",
         "type": "string"
        },
        {
         "name": "pixel723",
         "rawType": "object",
         "type": "string"
        },
        {
         "name": "pixel724",
         "rawType": "object",
         "type": "string"
        },
        {
         "name": "pixel725",
         "rawType": "object",
         "type": "string"
        },
        {
         "name": "pixel726",
         "rawType": "object",
         "type": "string"
        },
        {
         "name": "pixel727",
         "rawType": "object",
         "type": "string"
        },
        {
         "name": "pixel728",
         "rawType": "object",
         "type": "string"
        },
        {
         "name": "pixel729",
         "rawType": "object",
         "type": "string"
        },
        {
         "name": "pixel730",
         "rawType": "object",
         "type": "string"
        },
        {
         "name": "pixel731",
         "rawType": "object",
         "type": "string"
        },
        {
         "name": "pixel732",
         "rawType": "object",
         "type": "string"
        },
        {
         "name": "pixel733",
         "rawType": "object",
         "type": "string"
        },
        {
         "name": "pixel734",
         "rawType": "object",
         "type": "string"
        },
        {
         "name": "pixel735",
         "rawType": "object",
         "type": "string"
        },
        {
         "name": "pixel736",
         "rawType": "object",
         "type": "string"
        },
        {
         "name": "pixel737",
         "rawType": "object",
         "type": "string"
        },
        {
         "name": "pixel738",
         "rawType": "object",
         "type": "string"
        },
        {
         "name": "pixel739",
         "rawType": "object",
         "type": "string"
        },
        {
         "name": "pixel740",
         "rawType": "object",
         "type": "string"
        },
        {
         "name": "pixel741",
         "rawType": "object",
         "type": "string"
        },
        {
         "name": "pixel742",
         "rawType": "object",
         "type": "string"
        },
        {
         "name": "pixel743",
         "rawType": "object",
         "type": "string"
        },
        {
         "name": "pixel744",
         "rawType": "object",
         "type": "string"
        },
        {
         "name": "pixel745",
         "rawType": "object",
         "type": "string"
        },
        {
         "name": "pixel746",
         "rawType": "object",
         "type": "string"
        },
        {
         "name": "pixel747",
         "rawType": "object",
         "type": "string"
        },
        {
         "name": "pixel748",
         "rawType": "object",
         "type": "string"
        },
        {
         "name": "pixel749",
         "rawType": "object",
         "type": "string"
        },
        {
         "name": "pixel750",
         "rawType": "object",
         "type": "string"
        },
        {
         "name": "pixel751",
         "rawType": "object",
         "type": "string"
        },
        {
         "name": "pixel752",
         "rawType": "object",
         "type": "string"
        },
        {
         "name": "pixel753",
         "rawType": "object",
         "type": "string"
        },
        {
         "name": "pixel754",
         "rawType": "object",
         "type": "string"
        },
        {
         "name": "pixel755",
         "rawType": "object",
         "type": "string"
        },
        {
         "name": "pixel756",
         "rawType": "object",
         "type": "string"
        },
        {
         "name": "pixel757",
         "rawType": "object",
         "type": "string"
        },
        {
         "name": "pixel758",
         "rawType": "object",
         "type": "string"
        },
        {
         "name": "pixel759",
         "rawType": "object",
         "type": "string"
        },
        {
         "name": "pixel760",
         "rawType": "object",
         "type": "string"
        },
        {
         "name": "pixel761",
         "rawType": "object",
         "type": "string"
        },
        {
         "name": "pixel762",
         "rawType": "object",
         "type": "string"
        },
        {
         "name": "pixel763",
         "rawType": "object",
         "type": "string"
        },
        {
         "name": "pixel764",
         "rawType": "object",
         "type": "string"
        },
        {
         "name": "pixel765",
         "rawType": "object",
         "type": "string"
        },
        {
         "name": "pixel766",
         "rawType": "object",
         "type": "string"
        },
        {
         "name": "pixel767",
         "rawType": "object",
         "type": "string"
        },
        {
         "name": "pixel768",
         "rawType": "object",
         "type": "string"
        },
        {
         "name": "pixel769",
         "rawType": "object",
         "type": "string"
        },
        {
         "name": "pixel770",
         "rawType": "object",
         "type": "string"
        },
        {
         "name": "pixel771",
         "rawType": "object",
         "type": "string"
        },
        {
         "name": "pixel772",
         "rawType": "object",
         "type": "string"
        },
        {
         "name": "pixel773",
         "rawType": "object",
         "type": "string"
        },
        {
         "name": "pixel774",
         "rawType": "object",
         "type": "string"
        },
        {
         "name": "pixel775",
         "rawType": "object",
         "type": "string"
        },
        {
         "name": "pixel776",
         "rawType": "object",
         "type": "string"
        },
        {
         "name": "pixel777",
         "rawType": "object",
         "type": "string"
        },
        {
         "name": "pixel778",
         "rawType": "object",
         "type": "string"
        },
        {
         "name": "pixel779",
         "rawType": "object",
         "type": "string"
        },
        {
         "name": "pixel780",
         "rawType": "object",
         "type": "string"
        },
        {
         "name": "pixel781",
         "rawType": "object",
         "type": "string"
        },
        {
         "name": "pixel782",
         "rawType": "object",
         "type": "string"
        },
        {
         "name": "pixel783",
         "rawType": "object",
         "type": "string"
        },
        {
         "name": "pixel784",
         "rawType": "object",
         "type": "string"
        }
       ],
       "ref": "2a0dcf2d-52e1-41df-a017-11bca9ec394d",
       "rows": [
        [
         "0",
         "3",
         "107",
         "118",
         "127",
         "134",
         "139",
         "143",
         "146",
         "150",
         "153",
         "156",
         "158",
         "160",
         "163",
         "165",
         "159",
         "166",
         "168",
         "170",
         "170",
         "171",
         "171",
         "171",
         "172",
         "171",
         "171",
         "170",
         "170",
         "169",
         "111",
         "121",
         "129",
         "135",
         "141",
         "144",
         "148",
         "151",
         "154",
         "157",
         "160",
         "163",
         "164",
         "170",
         "119",
         "152",
         "171",
         "171",
         "170",
         "171",
         "172",
         "172",
         "172",
         "172",
         "172",
         "171",
         "171",
         "170",
         "113",
         "123",
         "131",
         "137",
         "142",
         "145",
         "150",
         "152",
         "155",
         "158",
         "161",
         "163",
         "164",
         "172",
         "105",
         "142",
         "170",
         "171",
         "171",
         "171",
         "172",
         "172",
         "173",
         "173",
         "172",
         "171",
         "171",
         "171",
         "116",
         "125",
         "133",
         "139",
         "143",
         "146",
         "151",
         "153",
         "156",
         "159",
         "162",
         "163",
         "167",
         "167",
         "95",
         "144",
         "171",
         "172",
         "172",
         "172",
         "172",
         "172",
         "173",
         "173",
         "173",
         "172",
         "172",
         "171",
         "117",
         "126",
         "134",
         "140",
         "145",
         "149",
         "153",
         "156",
         "158",
         "161",
         "163",
         "164",
         "175",
         "156",
         "87",
         "154",
         "172",
         "173",
         "173",
         "173",
         "173",
         "173",
         "174",
         "174",
         "174",
         "173",
         "172",
         "172",
         "119",
         "128",
         "136",
         "142",
         "146",
         "150",
         "153",
         "156",
         "159",
         "163",
         "165",
         "164",
         "184",
         "148",
         "89",
         "164",
         "172",
         "174",
         "174",
         "174",
         "174",
         "175",
         "175",
         "174",
         "175",
         "174",
         "173",
         "173",
         "122",
         "130",
         "138",
         "143",
         "147",
         "150",
         "154",
         "158",
         "162",
         "165",
         "166",
         "172",
         "181",
         "128",
         "94",
         "170",
         "173",
         "175",
         "174",
         "175",
         "176",
         "177",
         "177",
         "177",
         "177",
         "175",
         "175",
         "174",
         "122",
         "132",
         "139",
         "145",
         "149",
         "152",
         "156",
         "160",
         "163",
         "165",
         "166",
         "181",
         "172",
         "103",
         "113",
         "175",
         "176",
         "178",
         "178",
         "179",
         "179",
         "179",
         "179",
         "178",
         "179",
         "177",
         "175",
         "174",
         "125",
         "134",
         "141",
         "147",
         "150",
         "153",
         "157",
         "161",
         "164",
         "167",
         "168",
         "184",
         "179",
         "116",
         "126",
         "165",
         "176",
         "179",
         "180",
         "180",
         "181",
         "180",
         "180",
         "180",
         "179",
         "178",
         "177",
         "176",
         "128",
         "135",
         "142",
         "148",
         "152",
         "154",
         "158",
         "162",
         "165",
         "168",
         "170",
         "187",
         "180",
         "156",
         "161",
         "124",
         "143",
         "179",
         "178",
         "178",
         "181",
         "182",
         "181",
         "180",
         "181",
         "180",
         "179",
         "179",
         "129",
         "136",
         "144",
         "150",
         "153",
         "155",
         "159",
         "163",
         "166",
         "169",
         "172",
         "187",
         "184",
         "153",
         "102",
         "117",
         "110",
         "175",
         "169",
         "154",
         "182",
         "183",
         "183",
         "182",
         "182",
         "181",
         "181",
         "179",
         "131",
         "138",
         "145",
         "150",
         "155",
         "157",
         "161",
         "165",
         "168",
         "174",
         "190",
         "189",
         "175",
         "146",
         "94",
         "97",
         "113",
         "151",
         "158",
         "129",
         "184",
         "184",
         "184",
         "184",
         "183",
         "183",
         "182",
         "180",
         "131",
         "139",
         "146",
         "151",
         "155",
         "159",
         "163",
         "167",
         "175",
         "182",
         "179",
         "171",
         "159",
         "114",
         "102",
         "89",
         "121",
         "136",
         "136",
         "96",
         "172",
         "186",
         "186",
         "185",
         "185",
         "184",
         "182",
         "181",
         "131",
         "140",
         "147",
         "154",
         "157",
         "160",
         "164",
         "179",
         "186",
         "191",
         "187",
         "180",
         "157",
         "100",
         "88",
         "84",
         "108",
         "111",
         "126",
         "90",
         "120",
         "186",
         "187",
         "187",
         "186",
         "185",
         "184",
         "182",
         "133",
         "141",
         "149",
         "155",
         "158",
         "160",
         "174",
         "201",
         "189",
         "165",
         "151",
         "143",
         "146",
         "120",
         "87",
         "78",
         "87",
         "76",
         "108",
         "98",
         "96",
         "181",
         "188",
         "187",
         "186",
         "186",
         "185",
         "183",
         "133",
         "141",
         "150",
         "156",
         "160",
         "161",
         "179",
         "197",
         "174",
         "135",
         "99",
         "72",
         "95",
         "134",
         "97",
         "72",
         "74",
         "68",
         "116",
         "105",
         "108",
         "187",
         "189",
         "187",
         "187",
         "186",
         "186",
         "185",
         "134",
         "143",
         "151",
         "156",
         "161",
         "163",
         "179",
         "194",
         "156",
         "110",
         "74",
         "42",
         "52",
         "139",
         "94",
         "67",
         "75",
         "75",
         "118",
         "106",
         "129",
         "189",
         "191",
         "190",
         "188",
         "188",
         "187",
         "186",
         "135",
         "144",
         "152",
         "158",
         "163",
         "163",
         "177",
         "193",
         "161",
         "122",
         "84",
         "43",
         "71",
         "134",
         "81",
         "57",
         "71",
         "88",
         "112",
         "98",
         "157",
         "193",
         "193",
         "192",
         "190",
         "190",
         "189",
         "188",
         "136",
         "144",
         "152",
         "158",
         "162",
         "163",
         "176",
         "192",
         "164",
         "128",
         "98",
         "62",
         "60",
         "100",
         "71",
         "76",
         "96",
         "101",
         "105",
         "95",
         "174",
         "195",
         "194",
         "194",
         "194",
         "193",
         "191",
         "190",
         "137",
         "145",
         "152",
         "159",
         "164",
         "165",
         "178",
         "191",
         "164",
         "135",
         "113",
         "82",
         "59",
         "87",
         "98",
         "111",
         "120",
         "108",
         "97",
         "108",
         "190",
         "196",
         "195",
         "195",
         "194",
         "193",
         "193",
         "192",
         "139",
         "146",
         "154",
         "160",
         "164",
         "165",
         "175",
         "186",
         "163",
         "139",
         "112",
         "85",
         "67",
         "102",
         "126",
         "133",
         "126",
         "105",
         "104",
         "176",
         "197",
         "198",
         "197",
         "196",
         "195",
         "195",
         "194",
         "193",
         "138",
         "147",
         "155",
         "161",
         "165",
         "167",
         "172",
         "186",
         "163",
         "137",
         "107",
         "87",
         "76",
         "106",
         "122",
         "125",
         "117",
         "96",
         "156",
         "199",
         "199",
         "200",
         "198",
         "196",
         "196",
         "195",
         "195",
         "194",
         "139",
         "148",
         "156",
         "163",
         "166",
         "168",
         "172",
         "180",
         "158",
         "131",
         "108",
         "99",
         "86",
         "108",
         "118",
         "116",
         "103",
         "107",
         "191",
         "202",
         "201",
         "200",
         "200",
         "200",
         "199",
         "197",
         "198",
         "196",
         "140",
         "149",
         "157",
         "164",
         "168",
         "167",
         "177",
         "178",
         "155",
         "131",
         "118",
         "105",
         "87",
         "100",
         "106",
         "100",
         "96",
         "164",
         "202",
         "202",
         "202",
         "202",
         "202",
         "201",
         "200",
         "199",
         "199",
         "198",
         "140",
         "150",
         "157",
         "165",
         "167",
         "170",
         "181",
         "175",
         "152",
         "130",
         "115",
         "98",
         "82",
         "85",
         "90",
         "99",
         "165",
         "202",
         "203",
         "204",
         "203",
         "203",
         "202",
         "202",
         "201",
         "201",
         "200",
         "200",
         "142",
         "150",
         "159",
         "165",
         "170",
         "191",
         "173",
         "157",
         "144",
         "119",
         "97",
         "84",
         "79",
         "79",
         "91",
         "172",
         "202",
         "203",
         "203",
         "205",
         "204",
         "204",
         "204",
         "203",
         "202",
         "202",
         "201",
         "200",
         "142",
         "151",
         "160",
         "165",
         "188",
         "190",
         "187",
         "150",
         "119",
         "109",
         "85",
         "79",
         "79",
         "78",
         "137",
         "203",
         "205",
         "206",
         "206",
         "207",
         "207",
         "206",
         "206",
         "204",
         "205",
         "204",
         "203",
         "202",
         "142",
         "151",
         "160",
         "172",
         "196",
         "188",
         "188",
         "190",
         "135",
         "96",
         "86",
         "77",
         "77",
         "79",
         "176",
         "205",
         "207",
         "207",
         "207",
         "207",
         "207",
         "207",
         "206",
         "206",
         "206",
         "204",
         "203",
         "202"
        ],
        [
         "1",
         "6",
         "155",
         "157",
         "156",
         "156",
         "156",
         "157",
         "156",
         "158",
         "158",
         "157",
         "158",
         "156",
         "154",
         "154",
         "153",
         "152",
         "151",
         "149",
         "149",
         "148",
         "147",
         "146",
         "144",
         "142",
         "143",
         "138",
         "92",
         "108",
         "158",
         "159",
         "159",
         "159",
         "160",
         "160",
         "160",
         "160",
         "160",
         "160",
         "160",
         "159",
         "158",
         "157",
         "155",
         "154",
         "153",
         "152",
         "151",
         "150",
         "149",
         "149",
         "147",
         "147",
         "146",
         "142",
         "116",
         "143",
         "161",
         "161",
         "161",
         "161",
         "162",
         "161",
         "162",
         "162",
         "162",
         "162",
         "161",
         "161",
         "161",
         "160",
         "159",
         "158",
         "156",
         "155",
         "154",
         "153",
         "152",
         "152",
         "151",
         "150",
         "147",
         "147",
         "125",
         "140",
         "165",
         "164",
         "164",
         "165",
         "165",
         "165",
         "165",
         "165",
         "164",
         "164",
         "164",
         "165",
         "163",
         "163",
         "162",
         "161",
         "159",
         "159",
         "158",
         "156",
         "156",
         "155",
         "152",
         "153",
         "154",
         "151",
         "124",
         "126",
         "166",
         "167",
         "166",
         "167",
         "167",
         "166",
         "167",
         "167",
         "167",
         "167",
         "166",
         "167",
         "165",
         "165",
         "164",
         "163",
         "162",
         "162",
         "161",
         "160",
         "156",
         "151",
         "154",
         "176",
         "145",
         "122",
         "144",
         "100",
         "168",
         "169",
         "168",
         "169",
         "169",
         "168",
         "169",
         "170",
         "170",
         "170",
         "169",
         "168",
         "167",
         "166",
         "167",
         "165",
         "162",
         "159",
         "159",
         "156",
         "151",
         "165",
         "171",
         "146",
         "94",
         "130",
         "159",
         "111",
         "171",
         "171",
         "170",
         "171",
         "171",
         "171",
         "172",
         "171",
         "171",
         "171",
         "172",
         "169",
         "169",
         "170",
         "166",
         "165",
         "160",
         "157",
         "170",
         "177",
         "171",
         "153",
         "124",
         "96",
         "125",
         "157",
         "155",
         "146",
         "172",
         "172",
         "172",
         "173",
         "173",
         "173",
         "173",
         "173",
         "173",
         "173",
         "174",
         "174",
         "171",
         "167",
         "169",
         "175",
         "171",
         "164",
         "165",
         "157",
         "129",
         "112",
         "121",
         "148",
         "164",
         "158",
         "155",
         "152",
         "175",
         "174",
         "174",
         "174",
         "175",
         "174",
         "174",
         "174",
         "174",
         "177",
         "178",
         "174",
         "170",
         "178",
         "182",
         "171",
         "154",
         "127",
         "120",
         "126",
         "138",
         "159",
         "168",
         "165",
         "162",
         "161",
         "158",
         "157",
         "176",
         "176",
         "176",
         "176",
         "177",
         "176",
         "176",
         "177",
         "177",
         "175",
         "169",
         "170",
         "178",
         "169",
         "158",
         "163",
         "139",
         "119",
         "155",
         "171",
         "172",
         "168",
         "165",
         "165",
         "163",
         "162",
         "160",
         "158",
         "177",
         "177",
         "177",
         "178",
         "177",
         "178",
         "178",
         "177",
         "171",
         "159",
         "167",
         "173",
         "157",
         "142",
         "163",
         "152",
         "133",
         "167",
         "177",
         "171",
         "170",
         "170",
         "168",
         "167",
         "166",
         "164",
         "161",
         "159",
         "178",
         "178",
         "179",
         "179",
         "180",
         "178",
         "164",
         "141",
         "137",
         "145",
         "150",
         "141",
         "134",
         "150",
         "154",
         "151",
         "177",
         "181",
         "175",
         "172",
         "173",
         "172",
         "170",
         "167",
         "167",
         "165",
         "163",
         "161",
         "180",
         "179",
         "180",
         "182",
         "180",
         "180",
         "170",
         "156",
         "151",
         "148",
         "151",
         "154",
         "153",
         "153",
         "148",
         "153",
         "147",
         "140",
         "171",
         "176",
         "173",
         "173",
         "171",
         "170",
         "168",
         "167",
         "165",
         "163",
         "182",
         "181",
         "181",
         "182",
         "179",
         "164",
         "149",
         "156",
         "159",
         "153",
         "153",
         "166",
         "173",
         "169",
         "169",
         "163",
         "151",
         "105",
         "141",
         "182",
         "174",
         "175",
         "173",
         "171",
         "171",
         "168",
         "166",
         "165",
         "183",
         "183",
         "183",
         "182",
         "171",
         "159",
         "130",
         "125",
         "135",
         "134",
         "130",
         "137",
         "146",
         "147",
         "164",
         "165",
         "147",
         "103",
         "151",
         "182",
         "176",
         "176",
         "175",
         "173",
         "172",
         "170",
         "167",
         "166",
         "184",
         "185",
         "185",
         "176",
         "174",
         "163",
         "147",
         "145",
         "142",
         "141",
         "141",
         "133",
         "125",
         "125",
         "135",
         "135",
         "112",
         "105",
         "181",
         "179",
         "176",
         "177",
         "175",
         "174",
         "173",
         "171",
         "169",
         "166",
         "185",
         "186",
         "182",
         "170",
         "161",
         "132",
         "125",
         "134",
         "130",
         "144",
         "157",
         "159",
         "152",
         "141",
         "132",
         "121",
         "72",
         "142",
         "176",
         "175",
         "182",
         "177",
         "177",
         "177",
         "175",
         "172",
         "169",
         "168",
         "186",
         "186",
         "173",
         "168",
         "159",
         "128",
         "115",
         "119",
         "109",
         "111",
         "140",
         "154",
         "156",
         "153",
         "140",
         "118",
         "64",
         "67",
         "121",
         "148",
         "160",
         "181",
         "177",
         "177",
         "176",
         "173",
         "169",
         "177",
         "189",
         "178",
         "165",
         "173",
         "163",
         "138",
         "128",
         "128",
         "124",
         "117",
         "111",
         "106",
         "118",
         "139",
         "133",
         "93",
         "40",
         "53",
         "109",
         "146",
         "119",
         "174",
         "179",
         "176",
         "175",
         "174",
         "177",
         "168",
         "186",
         "168",
         "169",
         "169",
         "155",
         "151",
         "145",
         "139",
         "135",
         "130",
         "121",
         "112",
         "104",
         "95",
         "101",
         "61",
         "39",
         "71",
         "99",
         "114",
         "103",
         "177",
         "180",
         "178",
         "178",
         "176",
         "130",
         "171",
         "168",
         "166",
         "163",
         "163",
         "158",
         "149",
         "139",
         "137",
         "138",
         "132",
         "122",
         "116",
         "107",
         "72",
         "66",
         "57",
         "55",
         "63",
         "77",
         "95",
         "155",
         "189",
         "186",
         "177",
         "158",
         "115",
         "86",
         "159",
         "162",
         "162",
         "159",
         "168",
         "170",
         "135",
         "106",
         "97",
         "82",
         "83",
         "103",
         "111",
         "87",
         "68",
         "65",
         "54",
         "89",
         "144",
         "155",
         "173",
         "182",
         "157",
         "165",
         "147",
         "109",
         "134",
         "153",
         "145",
         "165",
         "156",
         "162",
         "169",
         "151",
         "101",
         "73",
         "55",
         "54",
         "65",
         "94",
         "98",
         "71",
         "64",
         "53",
         "114",
         "189",
         "183",
         "177",
         "159",
         "147",
         "142",
         "149",
         "126",
         "160",
         "172",
         "130",
         "92",
         "164",
         "169",
         "171",
         "155",
         "114",
         "82",
         "69",
         "52",
         "62",
         "75",
         "91",
         "82",
         "69",
         "62",
         "139",
         "191",
         "154",
         "120",
         "118",
         "137",
         "147",
         "163",
         "145",
         "159",
         "180",
         "126",
         "87",
         "88",
         "162",
         "170",
         "162",
         "135",
         "98",
         "79",
         "66",
         "58",
         "67",
         "68",
         "66",
         "64",
         "79",
         "146",
         "189",
         "148",
         "132",
         "136",
         "133",
         "144",
         "154",
         "184",
         "139",
         "130",
         "121",
         "93",
         "102",
         "100",
         "162",
         "159",
         "145",
         "112",
         "85",
         "75",
         "68",
         "65",
         "64",
         "62",
         "79",
         "123",
         "192",
         "198",
         "183",
         "126",
         "81",
         "123",
         "137",
         "129",
         "154",
         "217",
         "133",
         "87",
         "87",
         "91",
         "101",
         "94",
         "153",
         "139",
         "115",
         "89",
         "77",
         "72",
         "65",
         "77",
         "106",
         "137",
         "174",
         "185",
         "146",
         "121",
         "111",
         "112",
         "100",
         "78",
         "120",
         "157",
         "168",
         "107",
         "99",
         "121",
         "133",
         "97",
         "95",
         "120",
         "135",
         "116",
         "95",
         "79",
         "69",
         "86",
         "139",
         "173",
         "200",
         "185",
         "175",
         "198",
         "124",
         "118",
         "94",
         "140",
         "133",
         "84",
         "69",
         "149",
         "128",
         "87",
         "94",
         "163",
         "175",
         "103",
         "135",
         "149"
        ],
        [
         "2",
         "2",
         "187",
         "188",
         "188",
         "187",
         "187",
         "186",
         "187",
         "188",
         "187",
         "186",
         "185",
         "185",
         "185",
         "184",
         "184",
         "184",
         "181",
         "181",
         "179",
         "179",
         "179",
         "178",
         "178",
         "109",
         "52",
         "66",
         "77",
         "83",
         "188",
         "189",
         "189",
         "188",
         "188",
         "189",
         "188",
         "188",
         "188",
         "188",
         "187",
         "185",
         "185",
         "187",
         "182",
         "177",
         "182",
         "182",
         "182",
         "180",
         "180",
         "179",
         "180",
         "135",
         "67",
         "73",
         "73",
         "71",
         "190",
         "190",
         "190",
         "191",
         "190",
         "190",
         "189",
         "189",
         "189",
         "188",
         "189",
         "188",
         "192",
         "184",
         "144",
         "103",
         "144",
         "142",
         "138",
         "186",
         "182",
         "180",
         "182",
         "163",
         "81",
         "74",
         "68",
         "61",
         "191",
         "193",
         "192",
         "192",
         "192",
         "191",
         "191",
         "191",
         "191",
         "195",
         "200",
         "189",
         "165",
         "127",
         "98",
         "71",
         "85",
         "94",
         "86",
         "165",
         "184",
         "182",
         "182",
         "175",
         "87",
         "61",
         "51",
         "56",
         "192",
         "193",
         "194",
         "193",
         "193",
         "193",
         "194",
         "191",
         "202",
         "208",
         "193",
         "130",
         "95",
         "78",
         "69",
         "62",
         "69",
         "72",
         "69",
         "83",
         "179",
         "184",
         "183",
         "184",
         "116",
         "43",
         "38",
         "56",
         "193",
         "193",
         "194",
         "195",
         "195",
         "195",
         "195",
         "196",
         "209",
         "193",
         "144",
         "83",
         "58",
         "61",
         "62",
         "52",
         "60",
         "65",
         "66",
         "70",
         "176",
         "187",
         "184",
         "185",
         "158",
         "45",
         "35",
         "45",
         "194",
         "194",
         "195",
         "196",
         "196",
         "197",
         "195",
         "208",
         "212",
         "133",
         "86",
         "67",
         "52",
         "52",
         "60",
         "61",
         "63",
         "73",
         "91",
         "150",
         "187",
         "187",
         "185",
         "183",
         "175",
         "112",
         "83",
         "55",
         "195",
         "196",
         "195",
         "198",
         "198",
         "198",
         "194",
         "219",
         "193",
         "106",
         "70",
         "68",
         "64",
         "60",
         "63",
         "71",
         "150",
         "174",
         "187",
         "191",
         "187",
         "186",
         "185",
         "185",
         "179",
         "122",
         "145",
         "140",
         "195",
         "197",
         "198",
         "199",
         "200",
         "198",
         "202",
         "224",
         "172",
         "103",
         "69",
         "68",
         "66",
         "60",
         "94",
         "163",
         "195",
         "193",
         "190",
         "190",
         "189",
         "189",
         "187",
         "189",
         "170",
         "89",
         "169",
         "171",
         "198",
         "200",
         "200",
         "200",
         "200",
         "199",
         "215",
         "210",
         "146",
         "84",
         "60",
         "60",
         "61",
         "66",
         "168",
         "201",
         "193",
         "192",
         "191",
         "190",
         "189",
         "189",
         "188",
         "189",
         "169",
         "110",
         "182",
         "143",
         "199",
         "200",
         "201",
         "201",
         "200",
         "203",
         "224",
         "197",
         "142",
         "93",
         "74",
         "68",
         "59",
         "70",
         "177",
         "199",
         "195",
         "194",
         "193",
         "192",
         "191",
         "189",
         "189",
         "189",
         "182",
         "152",
         "130",
         "102",
         "201",
         "201",
         "202",
         "202",
         "200",
         "215",
         "229",
         "186",
         "131",
         "93",
         "82",
         "80",
         "68",
         "81",
         "195",
         "196",
         "195",
         "195",
         "195",
         "193",
         "192",
         "192",
         "191",
         "189",
         "189",
         "183",
         "131",
         "130",
         "201",
         "202",
         "202",
         "203",
         "202",
         "230",
         "222",
         "168",
         "118",
         "87",
         "80",
         "78",
         "75",
         "110",
         "202",
         "197",
         "197",
         "196",
         "195",
         "194",
         "194",
         "193",
         "192",
         "191",
         "190",
         "185",
         "169",
         "161",
         "202",
         "202",
         "203",
         "202",
         "207",
         "237",
         "210",
         "158",
         "108",
         "81",
         "76",
         "76",
         "75",
         "116",
         "205",
         "197",
         "198",
         "198",
         "196",
         "195",
         "195",
         "194",
         "193",
         "191",
         "189",
         "186",
         "174",
         "182",
         "202",
         "203",
         "205",
         "200",
         "218",
         "238",
         "202",
         "151",
         "105",
         "82",
         "79",
         "80",
         "75",
         "129",
         "206",
         "198",
         "199",
         "198",
         "197",
         "196",
         "196",
         "194",
         "193",
         "192",
         "190",
         "189",
         "184",
         "166",
         "204",
         "204",
         "207",
         "202",
         "234",
         "228",
         "186",
         "141",
         "97",
         "80",
         "80",
         "79",
         "68",
         "136",
         "209",
         "198",
         "199",
         "199",
         "198",
         "197",
         "198",
         "197",
         "196",
         "192",
         "192",
         "191",
         "190",
         "158",
         "206",
         "206",
         "202",
         "215",
         "240",
         "217",
         "174",
         "130",
         "91",
         "78",
         "74",
         "71",
         "70",
         "83",
         "192",
         "203",
         "200",
         "200",
         "201",
         "200",
         "191",
         "177",
         "164",
         "151",
         "144",
         "164",
         "190",
         "187",
         "206",
         "207",
         "199",
         "229",
         "234",
         "204",
         "160",
         "119",
         "89",
         "75",
         "66",
         "69",
         "73",
         "69",
         "121",
         "212",
         "204",
         "203",
         "189",
         "164",
         "151",
         "151",
         "146",
         "138",
         "119",
         "91",
         "182",
         "191",
         "208",
         "205",
         "206",
         "238",
         "225",
         "190",
         "149",
         "113",
         "89",
         "70",
         "62",
         "68",
         "73",
         "75",
         "74",
         "156",
         "179",
         "161",
         "147",
         "147",
         "155",
         "151",
         "133",
         "112",
         "117",
         "123",
         "184",
         "189",
         "207",
         "198",
         "224",
         "237",
         "218",
         "181",
         "139",
         "107",
         "85",
         "63",
         "62",
         "75",
         "80",
         "82",
         "83",
         "80",
         "111",
         "136",
         "157",
         "158",
         "140",
         "109",
         "103",
         "154",
         "190",
         "192",
         "190",
         "190",
         "199",
         "209",
         "238",
         "232",
         "209",
         "173",
         "137",
         "100",
         "80",
         "58",
         "73",
         "90",
         "97",
         "102",
         "99",
         "100",
         "117",
         "139",
         "145",
         "122",
         "95",
         "94",
         "175",
         "199",
         "195",
         "193",
         "193",
         "190",
         "200",
         "233",
         "237",
         "224",
         "201",
         "167",
         "129",
         "96",
         "80",
         "61",
         "86",
         "98",
         "106",
         "112",
         "107",
         "107",
         "114",
         "115",
         "103",
         "115",
         "153",
         "187",
         "199",
         "195",
         "194",
         "192",
         "190",
         "190",
         "228",
         "236",
         "226",
         "214",
         "194",
         "160",
         "120",
         "92",
         "78",
         "70",
         "95",
         "104",
         "107",
         "111",
         "103",
         "94",
         "83",
         "100",
         "158",
         "197",
         "202",
         "200",
         "197",
         "195",
         "194",
         "192",
         "190",
         "189",
         "227",
         "228",
         "220",
         "206",
         "183",
         "148",
         "106",
         "90",
         "78",
         "83",
         "103",
         "110",
         "106",
         "95",
         "85",
         "77",
         "121",
         "189",
         "205",
         "202",
         "200",
         "201",
         "198",
         "196",
         "195",
         "192",
         "190",
         "190",
         "219",
         "216",
         "204",
         "182",
         "160",
         "127",
         "96",
         "87",
         "77",
         "89",
         "100",
         "104",
         "94",
         "72",
         "103",
         "174",
         "204",
         "205",
         "203",
         "201",
         "200",
         "201",
         "199",
         "197",
         "195",
         "193",
         "192",
         "191",
         "212",
         "198",
         "175",
         "158",
         "136",
         "103",
         "85",
         "76",
         "81",
         "89",
         "92",
         "88",
         "69",
         "108",
         "195",
         "208",
         "204",
         "203",
         "203",
         "201",
         "200",
         "200",
         "199",
         "196",
         "195",
         "195",
         "193",
         "192",
         "202",
         "179",
         "152",
         "140",
         "118",
         "85",
         "75",
         "78",
         "82",
         "77",
         "75",
         "87",
         "142",
         "203",
         "208",
         "205",
         "203",
         "204",
         "203",
         "201",
         "200",
         "200",
         "199",
         "198",
         "196",
         "195",
         "194",
         "193",
         "198",
         "166",
         "132",
         "114",
         "89",
         "74",
         "79",
         "77",
         "74",
         "78",
         "132",
         "188",
         "210",
         "209",
         "206",
         "205",
         "204",
         "203",
         "202",
         "201",
         "200",
         "199",
         "198",
         "199",
         "198",
         "195",
         "194",
         "195"
        ],
        [
         "3",
         "2",
         "211",
         "211",
         "212",
         "212",
         "211",
         "210",
         "211",
         "210",
         "210",
         "211",
         "209",
         "207",
         "208",
         "207",
         "206",
         "203",
         "202",
         "201",
         "200",
         "198",
         "197",
         "195",
         "192",
         "197",
         "171",
         "51",
         "52",
         "54",
         "212",
         "213",
         "215",
         "215",
         "212",
         "212",
         "213",
         "212",
         "212",
         "211",
         "211",
         "209",
         "208",
         "209",
         "206",
         "204",
         "203",
         "202",
         "201",
         "200",
         "199",
         "197",
         "193",
         "204",
         "149",
         "44",
         "49",
         "46",
         "215",
         "217",
         "218",
         "217",
         "216",
         "216",
         "217",
         "214",
         "213",
         "212",
         "212",
         "211",
         "210",
         "211",
         "208",
         "206",
         "206",
         "204",
         "204",
         "202",
         "202",
         "200",
         "194",
         "205",
         "120",
         "52",
         "41",
         "45",
         "218",
         "218",
         "218",
         "218",
         "218",
         "218",
         "218",
         "216",
         "216",
         "215",
         "213",
         "212",
         "213",
         "211",
         "209",
         "208",
         "209",
         "208",
         "208",
         "208",
         "207",
         "202",
         "198",
         "201",
         "90",
         "46",
         "44",
         "34",
         "219",
         "218",
         "220",
         "221",
         "220",
         "220",
         "218",
         "217",
         "219",
         "217",
         "215",
         "214",
         "214",
         "211",
         "201",
         "187",
         "186",
         "182",
         "179",
         "183",
         "192",
         "204",
         "204",
         "196",
         "63",
         "56",
         "49",
         "36",
         "221",
         "221",
         "221",
         "222",
         "222",
         "222",
         "220",
         "220",
         "219",
         "218",
         "217",
         "214",
         "213",
         "212",
         "198",
         "193",
         "186",
         "178",
         "164",
         "150",
         "144",
         "153",
         "192",
         "203",
         "79",
         "51",
         "35",
         "33",
         "224",
         "222",
         "223",
         "223",
         "223",
         "223",
         "220",
         "221",
         "220",
         "219",
         "218",
         "211",
         "208",
         "214",
         "197",
         "176",
         "200",
         "165",
         "145",
         "179",
         "155",
         "141",
         "136",
         "167",
         "93",
         "48",
         "33",
         "32",
         "225",
         "225",
         "225",
         "224",
         "223",
         "223",
         "223",
         "222",
         "221",
         "223",
         "217",
         "210",
         "210",
         "214",
         "155",
         "82",
         "119",
         "104",
         "81",
         "148",
         "158",
         "146",
         "100",
         "89",
         "69",
         "41",
         "38",
         "29",
         "225",
         "226",
         "226",
         "225",
         "226",
         "225",
         "224",
         "223",
         "223",
         "215",
         "216",
         "212",
         "175",
         "151",
         "110",
         "71",
         "63",
         "61",
         "61",
         "84",
         "110",
         "102",
         "80",
         "78",
         "74",
         "50",
         "48",
         "42",
         "226",
         "226",
         "226",
         "226",
         "226",
         "226",
         "226",
         "224",
         "219",
         "217",
         "228",
         "197",
         "126",
         "81",
         "71",
         "70",
         "62",
         "51",
         "60",
         "59",
         "68",
         "75",
         "68",
         "69",
         "91",
         "141",
         "135",
         "60",
         "227",
         "228",
         "228",
         "227",
         "227",
         "227",
         "228",
         "223",
         "222",
         "235",
         "223",
         "174",
         "127",
         "96",
         "60",
         "58",
         "65",
         "85",
         "137",
         "136",
         "185",
         "189",
         "154",
         "155",
         "161",
         "197",
         "182",
         "104",
         "228",
         "229",
         "229",
         "230",
         "228",
         "229",
         "222",
         "224",
         "228",
         "219",
         "183",
         "138",
         "109",
         "93",
         "69",
         "62",
         "60",
         "171",
         "233",
         "222",
         "217",
         "216",
         "219",
         "213",
         "170",
         "175",
         "120",
         "121",
         "230",
         "231",
         "231",
         "230",
         "232",
         "225",
         "223",
         "242",
         "225",
         "205",
         "167",
         "102",
         "82",
         "81",
         "73",
         "62",
         "143",
         "221",
         "215",
         "216",
         "215",
         "211",
         "211",
         "210",
         "185",
         "166",
         "108",
         "168",
         "231",
         "232",
         "232",
         "234",
         "227",
         "225",
         "248",
         "241",
         "213",
         "201",
         "164",
         "108",
         "68",
         "73",
         "72",
         "177",
         "229",
         "219",
         "218",
         "219",
         "218",
         "216",
         "215",
         "214",
         "198",
         "181",
         "156",
         "152",
         "233",
         "233",
         "235",
         "230",
         "226",
         "246",
         "243",
         "224",
         "208",
         "181",
         "132",
         "101",
         "82",
         "58",
         "131",
         "237",
         "219",
         "222",
         "222",
         "220",
         "217",
         "216",
         "216",
         "215",
         "208",
         "182",
         "184",
         "167",
         "235",
         "236",
         "234",
         "226",
         "250",
         "250",
         "230",
         "218",
         "201",
         "162",
         "124",
         "93",
         "62",
         "82",
         "214",
         "228",
         "223",
         "224",
         "225",
         "223",
         "219",
         "217",
         "216",
         "215",
         "214",
         "196",
         "174",
         "181",
         "235",
         "237",
         "233",
         "248",
         "255",
         "244",
         "222",
         "209",
         "182",
         "148",
         "116",
         "82",
         "50",
         "126",
         "246",
         "222",
         "226",
         "226",
         "226",
         "225",
         "219",
         "219",
         "222",
         "213",
         "213",
         "217",
         "180",
         "122",
         "237",
         "234",
         "245",
         "255",
         "252",
         "232",
         "212",
         "198",
         "171",
         "129",
         "98",
         "66",
         "66",
         "68",
         "202",
         "234",
         "224",
         "226",
         "226",
         "223",
         "226",
         "216",
         "182",
         "162",
         "151",
         "187",
         "218",
         "84",
         "233",
         "244",
         "255",
         "247",
         "238",
         "223",
         "202",
         "186",
         "155",
         "110",
         "84",
         "61",
         "73",
         "64",
         "85",
         "225",
         "227",
         "223",
         "228",
         "237",
         "206",
         "145",
         "144",
         "164",
         "111",
         "139",
         "227",
         "163",
         "241",
         "255",
         "252",
         "237",
         "225",
         "209",
         "190",
         "173",
         "135",
         "102",
         "77",
         "76",
         "88",
         "92",
         "67",
         "152",
         "245",
         "231",
         "206",
         "170",
         "130",
         "138",
         "160",
         "121",
         "128",
         "210",
         "211",
         "215",
         "228",
         "255",
         "249",
         "225",
         "216",
         "198",
         "185",
         "162",
         "123",
         "100",
         "82",
         "92",
         "100",
         "98",
         "94",
         "81",
         "147",
         "144",
         "106",
         "94",
         "104",
         "144",
         "114",
         "106",
         "220",
         "215",
         "213",
         "210",
         "90",
         "146",
         "207",
         "193",
         "183",
         "193",
         "175",
         "148",
         "120",
         "94",
         "83",
         "99",
         "102",
         "99",
         "97",
         "89",
         "78",
         "87",
         "98",
         "122",
         "111",
         "117",
         "61",
         "177",
         "226",
         "215",
         "215",
         "211",
         "74",
         "63",
         "80",
         "119",
         "134",
         "134",
         "136",
         "117",
         "90",
         "77",
         "82",
         "97",
         "97",
         "97",
         "93",
         "89",
         "86",
         "106",
         "109",
         "117",
         "102",
         "63",
         "91",
         "224",
         "218",
         "218",
         "215",
         "212",
         "71",
         "72",
         "65",
         "65",
         "65",
         "71",
         "75",
         "57",
         "54",
         "66",
         "70",
         "83",
         "88",
         "88",
         "84",
         "89",
         "90",
         "95",
         "87",
         "77",
         "89",
         "144",
         "210",
         "224",
         "219",
         "219",
         "217",
         "214",
         "67",
         "66",
         "63",
         "65",
         "58",
         "29",
         "34",
         "43",
         "46",
         "53",
         "52",
         "66",
         "79",
         "74",
         "67",
         "64",
         "57",
         "70",
         "115",
         "167",
         "216",
         "236",
         "228",
         "223",
         "221",
         "220",
         "219",
         "217",
         "65",
         "62",
         "58",
         "55",
         "63",
         "44",
         "11",
         "22",
         "24",
         "28",
         "34",
         "49",
         "46",
         "62",
         "95",
         "109",
         "141",
         "202",
         "237",
         "240",
         "231",
         "226",
         "226",
         "224",
         "222",
         "220",
         "219",
         "217",
         "63",
         "56",
         "52",
         "52",
         "59",
         "56",
         "17",
         "16",
         "20",
         "17",
         "17",
         "14",
         "120",
         "217",
         "237",
         "244",
         "247",
         "242",
         "233",
         "231",
         "230",
         "229",
         "227",
         "225",
         "223",
         "221",
         "220",
         "216",
         "58",
         "51",
         "49",
         "50",
         "57",
         "60",
         "17",
         "15",
         "18",
         "17",
         "19",
         "1",
         "159",
         "255",
         "237",
         "239",
         "237",
         "236",
         "235",
         "234",
         "233",
         "231",
         "230",
         "226",
         "225",
         "222",
         "229",
         "163"
        ],
        [
         "4",
         "13",
         "164",
         "167",
         "170",
         "172",
         "176",
         "179",
         "180",
         "184",
         "185",
         "186",
         "188",
         "189",
         "189",
         "190",
         "191",
         "189",
         "190",
         "190",
         "187",
         "190",
         "192",
         "193",
         "191",
         "191",
         "192",
         "192",
         "194",
         "194",
         "166",
         "169",
         "172",
         "174",
         "177",
         "180",
         "182",
         "185",
         "186",
         "187",
         "190",
         "191",
         "190",
         "191",
         "192",
         "192",
         "194",
         "182",
         "152",
         "146",
         "189",
         "195",
         "194",
         "193",
         "193",
         "194",
         "195",
         "195",
         "167",
         "170",
         "173",
         "176",
         "178",
         "181",
         "183",
         "186",
         "187",
         "188",
         "191",
         "193",
         "192",
         "191",
         "188",
         "193",
         "206",
         "182",
         "136",
         "92",
         "172",
         "196",
         "196",
         "197",
         "195",
         "197",
         "197",
         "196",
         "170",
         "172",
         "175",
         "177",
         "180",
         "184",
         "186",
         "188",
         "188",
         "191",
         "192",
         "193",
         "197",
         "183",
         "153",
         "153",
         "196",
         "178",
         "135",
         "82",
         "140",
         "142",
         "147",
         "176",
         "199",
         "200",
         "199",
         "197",
         "171",
         "173",
         "176",
         "179",
         "182",
         "185",
         "187",
         "189",
         "190",
         "193",
         "193",
         "195",
         "214",
         "190",
         "144",
         "117",
         "178",
         "173",
         "132",
         "77",
         "113",
         "136",
         "105",
         "104",
         "191",
         "201",
         "200",
         "199",
         "172",
         "174",
         "177",
         "181",
         "184",
         "187",
         "188",
         "190",
         "193",
         "193",
         "193",
         "182",
         "187",
         "191",
         "163",
         "121",
         "172",
         "166",
         "119",
         "80",
         "156",
         "159",
         "104",
         "76",
         "169",
         "203",
         "200",
         "200",
         "173",
         "175",
         "179",
         "182",
         "185",
         "188",
         "190",
         "192",
         "193",
         "195",
         "197",
         "158",
         "120",
         "132",
         "165",
         "118",
         "164",
         "183",
         "117",
         "106",
         "183",
         "154",
         "107",
         "74",
         "166",
         "205",
         "202",
         "202",
         "174",
         "177",
         "180",
         "183",
         "187",
         "189",
         "192",
         "193",
         "194",
         "203",
         "200",
         "163",
         "126",
         "97",
         "146",
         "116",
         "159",
         "191",
         "122",
         "123",
         "183",
         "150",
         "102",
         "76",
         "177",
         "204",
         "203",
         "203",
         "175",
         "179",
         "181",
         "185",
         "188",
         "190",
         "193",
         "193",
         "201",
         "193",
         "192",
         "177",
         "137",
         "95",
         "124",
         "125",
         "104",
         "119",
         "88",
         "120",
         "197",
         "160",
         "97",
         "84",
         "190",
         "204",
         "204",
         "205",
         "177",
         "180",
         "183",
         "187",
         "189",
         "192",
         "194",
         "196",
         "203",
         "176",
         "172",
         "175",
         "135",
         "92",
         "101",
         "129",
         "77",
         "27",
         "64",
         "133",
         "174",
         "133",
         "74",
         "98",
         "201",
         "206",
         "206",
         "206",
         "178",
         "182",
         "185",
         "187",
         "189",
         "192",
         "194",
         "201",
         "202",
         "178",
         "153",
         "166",
         "135",
         "87",
         "86",
         "121",
         "88",
         "27",
         "69",
         "154",
         "158",
         "114",
         "81",
         "132",
         "208",
         "207",
         "208",
         "208",
         "178",
         "181",
         "184",
         "187",
         "190",
         "194",
         "194",
         "208",
         "204",
         "176",
         "139",
         "165",
         "131",
         "88",
         "79",
         "112",
         "95",
         "63",
         "127",
         "162",
         "163",
         "147",
         "122",
         "115",
         "198",
         "208",
         "209",
         "209",
         "178",
         "181",
         "185",
         "188",
         "191",
         "195",
         "196",
         "210",
         "203",
         "172",
         "136",
         "150",
         "127",
         "89",
         "76",
         "131",
         "118",
         "118",
         "188",
         "177",
         "153",
         "133",
         "113",
         "88",
         "168",
         "212",
         "210",
         "210",
         "180",
         "182",
         "185",
         "189",
         "192",
         "195",
         "197",
         "213",
         "202",
         "173",
         "142",
         "135",
         "128",
         "109",
         "76",
         "151",
         "146",
         "168",
         "194",
         "179",
         "152",
         "119",
         "98",
         "84",
         "171",
         "212",
         "210",
         "211",
         "181",
         "182",
         "186",
         "189",
         "193",
         "196",
         "199",
         "213",
         "202",
         "180",
         "159",
         "133",
         "116",
         "111",
         "70",
         "149",
         "183",
         "204",
         "193",
         "170",
         "143",
         "110",
         "89",
         "93",
         "192",
         "213",
         "211",
         "211",
         "181",
         "184",
         "187",
         "190",
         "194",
         "196",
         "200",
         "214",
         "203",
         "183",
         "166",
         "149",
         "119",
         "104",
         "109",
         "188",
         "205",
         "209",
         "189",
         "160",
         "133",
         "102",
         "85",
         "108",
         "206",
         "213",
         "213",
         "212",
         "182",
         "185",
         "188",
         "191",
         "194",
         "196",
         "200",
         "211",
         "203",
         "185",
         "171",
         "164",
         "140",
         "122",
         "127",
         "187",
         "206",
         "201",
         "173",
         "142",
         "119",
         "95",
         "85",
         "147",
         "214",
         "214",
         "215",
         "214",
         "181",
         "185",
         "187",
         "190",
         "193",
         "196",
         "199",
         "204",
         "200",
         "190",
         "176",
         "169",
         "148",
         "127",
         "124",
         "183",
         "205",
         "189",
         "157",
         "128",
         "108",
         "89",
         "103",
         "196",
         "214",
         "214",
         "216",
         "215",
         "181",
         "184",
         "187",
         "191",
         "193",
         "196",
         "197",
         "200",
         "199",
         "192",
         "176",
         "171",
         "154",
         "131",
         "131",
         "173",
         "199",
         "174",
         "145",
         "119",
         "99",
         "82",
         "143",
         "214",
         "213",
         "214",
         "215",
         "214",
         "181",
         "184",
         "187",
         "191",
         "194",
         "196",
         "198",
         "200",
         "202",
         "194",
         "177",
         "167",
         "151",
         "131",
         "133",
         "168",
         "176",
         "153",
         "132",
         "109",
         "92",
         "89",
         "181",
         "213",
         "213",
         "213",
         "213",
         "214",
         "182",
         "185",
         "188",
         "192",
         "194",
         "196",
         "198",
         "200",
         "203",
         "191",
         "172",
         "162",
         "142",
         "124",
         "137",
         "161",
         "150",
         "137",
         "117",
         "98",
         "87",
         "123",
         "207",
         "213",
         "214",
         "214",
         "214",
         "214",
         "184",
         "186",
         "189",
         "192",
         "194",
         "196",
         "198",
         "197",
         "203",
         "182",
         "165",
         "151",
         "129",
         "123",
         "143",
         "151",
         "134",
         "127",
         "107",
         "92",
         "94",
         "177",
         "214",
         "214",
         "214",
         "214",
         "215",
         "215",
         "184",
         "185",
         "189",
         "192",
         "195",
         "197",
         "194",
         "201",
         "202",
         "178",
         "166",
         "147",
         "132",
         "134",
         "150",
         "145",
         "130",
         "116",
         "100",
         "88",
         "145",
         "209",
         "214",
         "214",
         "215",
         "215",
         "216",
         "216",
         "184",
         "186",
         "189",
         "193",
         "196",
         "198",
         "194",
         "209",
         "207",
         "184",
         "175",
         "148",
         "137",
         "148",
         "153",
         "133",
         "122",
         "100",
         "87",
         "110",
         "195",
         "215",
         "215",
         "214",
         "215",
         "215",
         "216",
         "216",
         "180",
         "184",
         "187",
         "191",
         "194",
         "196",
         "192",
         "206",
         "202",
         "186",
         "181",
         "152",
         "146",
         "155",
         "143",
         "121",
         "106",
         "88",
         "82",
         "161",
         "213",
         "214",
         "216",
         "215",
         "216",
         "216",
         "216",
         "217",
         "130",
         "134",
         "139",
         "143",
         "147",
         "146",
         "173",
         "200",
         "187",
         "178",
         "174",
         "150",
         "143",
         "149",
         "138",
         "108",
         "94",
         "81",
         "94",
         "178",
         "198",
         "201",
         "204",
         "206",
         "208",
         "209",
         "211",
         "211",
         "99",
         "101",
         "100",
         "100",
         "100",
         "97",
         "163",
         "200",
         "179",
         "161",
         "150",
         "138",
         "138",
         "151",
         "132",
         "97",
         "90",
         "77",
         "88",
         "117",
         "123",
         "127",
         "129",
         "134",
         "145",
         "152",
         "156",
         "179",
         "105",
         "106",
         "105",
         "104",
         "104",
         "104",
         "175",
         "199",
         "178",
         "152",
         "136",
         "130",
         "136",
         "150",
         "118",
         "92",
         "85",
         "76",
         "92",
         "105",
         "105",
         "108",
         "133",
         "163",
         "157",
         "163",
         "164",
         "179"
        ]
       ],
       "shape": {
        "columns": 785,
        "rows": 5
       }
      },
      "text/html": [
       "<div>\n",
       "<style scoped>\n",
       "    .dataframe tbody tr th:only-of-type {\n",
       "        vertical-align: middle;\n",
       "    }\n",
       "\n",
       "    .dataframe tbody tr th {\n",
       "        vertical-align: top;\n",
       "    }\n",
       "\n",
       "    .dataframe thead th {\n",
       "        text-align: right;\n",
       "    }\n",
       "</style>\n",
       "<table border=\"1\" class=\"dataframe\">\n",
       "  <thead>\n",
       "    <tr style=\"text-align: right;\">\n",
       "      <th></th>\n",
       "      <th>label</th>\n",
       "      <th>pixel1</th>\n",
       "      <th>pixel2</th>\n",
       "      <th>pixel3</th>\n",
       "      <th>pixel4</th>\n",
       "      <th>pixel5</th>\n",
       "      <th>pixel6</th>\n",
       "      <th>pixel7</th>\n",
       "      <th>pixel8</th>\n",
       "      <th>pixel9</th>\n",
       "      <th>...</th>\n",
       "      <th>pixel775</th>\n",
       "      <th>pixel776</th>\n",
       "      <th>pixel777</th>\n",
       "      <th>pixel778</th>\n",
       "      <th>pixel779</th>\n",
       "      <th>pixel780</th>\n",
       "      <th>pixel781</th>\n",
       "      <th>pixel782</th>\n",
       "      <th>pixel783</th>\n",
       "      <th>pixel784</th>\n",
       "    </tr>\n",
       "  </thead>\n",
       "  <tbody>\n",
       "    <tr>\n",
       "      <th>0</th>\n",
       "      <td>3</td>\n",
       "      <td>107</td>\n",
       "      <td>118</td>\n",
       "      <td>127</td>\n",
       "      <td>134</td>\n",
       "      <td>139</td>\n",
       "      <td>143</td>\n",
       "      <td>146</td>\n",
       "      <td>150</td>\n",
       "      <td>153</td>\n",
       "      <td>...</td>\n",
       "      <td>207</td>\n",
       "      <td>207</td>\n",
       "      <td>207</td>\n",
       "      <td>207</td>\n",
       "      <td>206</td>\n",
       "      <td>206</td>\n",
       "      <td>206</td>\n",
       "      <td>204</td>\n",
       "      <td>203</td>\n",
       "      <td>202</td>\n",
       "    </tr>\n",
       "    <tr>\n",
       "      <th>1</th>\n",
       "      <td>6</td>\n",
       "      <td>155</td>\n",
       "      <td>157</td>\n",
       "      <td>156</td>\n",
       "      <td>156</td>\n",
       "      <td>156</td>\n",
       "      <td>157</td>\n",
       "      <td>156</td>\n",
       "      <td>158</td>\n",
       "      <td>158</td>\n",
       "      <td>...</td>\n",
       "      <td>69</td>\n",
       "      <td>149</td>\n",
       "      <td>128</td>\n",
       "      <td>87</td>\n",
       "      <td>94</td>\n",
       "      <td>163</td>\n",
       "      <td>175</td>\n",
       "      <td>103</td>\n",
       "      <td>135</td>\n",
       "      <td>149</td>\n",
       "    </tr>\n",
       "    <tr>\n",
       "      <th>2</th>\n",
       "      <td>2</td>\n",
       "      <td>187</td>\n",
       "      <td>188</td>\n",
       "      <td>188</td>\n",
       "      <td>187</td>\n",
       "      <td>187</td>\n",
       "      <td>186</td>\n",
       "      <td>187</td>\n",
       "      <td>188</td>\n",
       "      <td>187</td>\n",
       "      <td>...</td>\n",
       "      <td>202</td>\n",
       "      <td>201</td>\n",
       "      <td>200</td>\n",
       "      <td>199</td>\n",
       "      <td>198</td>\n",
       "      <td>199</td>\n",
       "      <td>198</td>\n",
       "      <td>195</td>\n",
       "      <td>194</td>\n",
       "      <td>195</td>\n",
       "    </tr>\n",
       "    <tr>\n",
       "      <th>3</th>\n",
       "      <td>2</td>\n",
       "      <td>211</td>\n",
       "      <td>211</td>\n",
       "      <td>212</td>\n",
       "      <td>212</td>\n",
       "      <td>211</td>\n",
       "      <td>210</td>\n",
       "      <td>211</td>\n",
       "      <td>210</td>\n",
       "      <td>210</td>\n",
       "      <td>...</td>\n",
       "      <td>235</td>\n",
       "      <td>234</td>\n",
       "      <td>233</td>\n",
       "      <td>231</td>\n",
       "      <td>230</td>\n",
       "      <td>226</td>\n",
       "      <td>225</td>\n",
       "      <td>222</td>\n",
       "      <td>229</td>\n",
       "      <td>163</td>\n",
       "    </tr>\n",
       "    <tr>\n",
       "      <th>4</th>\n",
       "      <td>13</td>\n",
       "      <td>164</td>\n",
       "      <td>167</td>\n",
       "      <td>170</td>\n",
       "      <td>172</td>\n",
       "      <td>176</td>\n",
       "      <td>179</td>\n",
       "      <td>180</td>\n",
       "      <td>184</td>\n",
       "      <td>185</td>\n",
       "      <td>...</td>\n",
       "      <td>92</td>\n",
       "      <td>105</td>\n",
       "      <td>105</td>\n",
       "      <td>108</td>\n",
       "      <td>133</td>\n",
       "      <td>163</td>\n",
       "      <td>157</td>\n",
       "      <td>163</td>\n",
       "      <td>164</td>\n",
       "      <td>179</td>\n",
       "    </tr>\n",
       "  </tbody>\n",
       "</table>\n",
       "<p>5 rows × 785 columns</p>\n",
       "</div>"
      ],
      "text/plain": [
       "   label pixel1 pixel2 pixel3 pixel4 pixel5 pixel6 pixel7 pixel8 pixel9  ...  \\\n",
       "0      3    107    118    127    134    139    143    146    150    153  ...   \n",
       "1      6    155    157    156    156    156    157    156    158    158  ...   \n",
       "2      2    187    188    188    187    187    186    187    188    187  ...   \n",
       "3      2    211    211    212    212    211    210    211    210    210  ...   \n",
       "4     13    164    167    170    172    176    179    180    184    185  ...   \n",
       "\n",
       "  pixel775 pixel776 pixel777 pixel778 pixel779 pixel780 pixel781 pixel782  \\\n",
       "0      207      207      207      207      206      206      206      204   \n",
       "1       69      149      128       87       94      163      175      103   \n",
       "2      202      201      200      199      198      199      198      195   \n",
       "3      235      234      233      231      230      226      225      222   \n",
       "4       92      105      105      108      133      163      157      163   \n",
       "\n",
       "  pixel783 pixel784  \n",
       "0      203      202  \n",
       "1      135      149  \n",
       "2      194      195  \n",
       "3      229      163  \n",
       "4      164      179  \n",
       "\n",
       "[5 rows x 785 columns]"
      ]
     },
     "execution_count": 16,
     "metadata": {},
     "output_type": "execute_result"
    }
   ],
   "source": [
    "df_train_clean = pd.read_csv(path_sign_clean, sep=',', encoding='utf-8')\n",
    "df_train_clean.head()"
   ]
  },
  {
   "cell_type": "code",
   "execution_count": 17,
   "id": "0e27bffc",
   "metadata": {},
   "outputs": [
    {
     "data": {
      "application/vnd.microsoft.datawrangler.viewer.v0+json": {
       "columns": [
        {
         "name": "index",
         "rawType": "object",
         "type": "string"
        },
        {
         "name": "0",
         "rawType": "int64",
         "type": "integer"
        }
       ],
       "ref": "79c69956-5452-404b-961b-135fc2b7cd0f",
       "rows": [
        [
         "label",
         "0"
        ],
        [
         "pixel1",
         "0"
        ],
        [
         "pixel2",
         "0"
        ],
        [
         "pixel3",
         "0"
        ],
        [
         "pixel4",
         "0"
        ],
        [
         "pixel5",
         "0"
        ],
        [
         "pixel6",
         "0"
        ],
        [
         "pixel7",
         "0"
        ],
        [
         "pixel8",
         "0"
        ],
        [
         "pixel9",
         "0"
        ],
        [
         "pixel10",
         "0"
        ],
        [
         "pixel11",
         "0"
        ],
        [
         "pixel12",
         "0"
        ],
        [
         "pixel13",
         "0"
        ],
        [
         "pixel14",
         "0"
        ],
        [
         "pixel15",
         "0"
        ],
        [
         "pixel16",
         "0"
        ],
        [
         "pixel17",
         "0"
        ],
        [
         "pixel18",
         "0"
        ],
        [
         "pixel19",
         "0"
        ],
        [
         "pixel20",
         "0"
        ],
        [
         "pixel21",
         "0"
        ],
        [
         "pixel22",
         "0"
        ],
        [
         "pixel23",
         "0"
        ],
        [
         "pixel24",
         "0"
        ],
        [
         "pixel25",
         "0"
        ],
        [
         "pixel26",
         "0"
        ],
        [
         "pixel27",
         "0"
        ],
        [
         "pixel28",
         "0"
        ],
        [
         "pixel29",
         "0"
        ],
        [
         "pixel30",
         "0"
        ],
        [
         "pixel31",
         "0"
        ],
        [
         "pixel32",
         "0"
        ],
        [
         "pixel33",
         "0"
        ],
        [
         "pixel34",
         "0"
        ],
        [
         "pixel35",
         "0"
        ],
        [
         "pixel36",
         "0"
        ],
        [
         "pixel37",
         "0"
        ],
        [
         "pixel38",
         "0"
        ],
        [
         "pixel39",
         "0"
        ],
        [
         "pixel40",
         "0"
        ],
        [
         "pixel41",
         "0"
        ],
        [
         "pixel42",
         "0"
        ],
        [
         "pixel43",
         "0"
        ],
        [
         "pixel44",
         "0"
        ],
        [
         "pixel45",
         "0"
        ],
        [
         "pixel46",
         "0"
        ],
        [
         "pixel47",
         "0"
        ],
        [
         "pixel48",
         "0"
        ],
        [
         "pixel49",
         "0"
        ]
       ],
       "shape": {
        "columns": 1,
        "rows": 785
       }
      },
      "text/plain": [
       "label       0\n",
       "pixel1      0\n",
       "pixel2      0\n",
       "pixel3      0\n",
       "pixel4      0\n",
       "           ..\n",
       "pixel780    0\n",
       "pixel781    0\n",
       "pixel782    0\n",
       "pixel783    0\n",
       "pixel784    0\n",
       "Length: 785, dtype: int64"
      ]
     },
     "execution_count": 17,
     "metadata": {},
     "output_type": "execute_result"
    }
   ],
   "source": [
    "df_train_clean.isnull().sum()   "
   ]
  },
  {
   "cell_type": "code",
   "execution_count": 18,
   "id": "f389922e",
   "metadata": {},
   "outputs": [
    {
     "data": {
      "text/plain": [
       "(27455, 785)"
      ]
     },
     "execution_count": 18,
     "metadata": {},
     "output_type": "execute_result"
    }
   ],
   "source": [
    "df_train_clean.shape"
   ]
  },
  {
   "cell_type": "code",
   "execution_count": 19,
   "id": "fa9294b2",
   "metadata": {},
   "outputs": [
    {
     "data": {
      "text/plain": [
       "np.int64(4)"
      ]
     },
     "execution_count": 19,
     "metadata": {},
     "output_type": "execute_result"
    }
   ],
   "source": [
    "df_train_clean.duplicated().sum()"
   ]
  },
  {
   "cell_type": "code",
   "execution_count": 23,
   "id": "4fb1795e",
   "metadata": {},
   "outputs": [
    {
     "data": {
      "image/png": "[encoded data removed]",
      "text/plain": [
       "<Figure size 1000x1000 with 1 Axes>"
      ]
     },
     "metadata": {},
     "output_type": "display_data"
    }
   ],
   "source": [
    "fig = plt.figure(figsize=(10, 10))\n",
    "sns.countplot(x='label', data=df_train_clean, hue='label', palette='viridis')\n",
    "plt.title(\"Distribution of Labels in Cleaned Sign MNIST Train Data\")\n",
    "plt.xlabel(\"Label\")\n",
    "plt.ylabel(\"Count\")\n",
    "plt.show()"
   ]
  },
  {
   "cell_type": "code",
   "execution_count": 27,
   "id": "5b131630",
   "metadata": {},
   "outputs": [
    {
     "data": {
      "image/png": "[encoded data removed]",
      "text/plain": [
       "<Figure size 1200x600 with 1 Axes>"
      ]
     },
     "metadata": {},
     "output_type": "display_data"
    }
   ],
   "source": [
    "# Class 4 it seems with less data\n",
    "# count labels\n",
    "\n",
    "df_train_clean['label'].value_counts().sort_values(ascending=False).plot(\n",
    "    kind='bar', figsize=(12, 6))\n",
    "plt.title(\"Distribution of Labels in Cleaned Sign MNIST Train Data\")\n",
    "plt.xlabel(\"Label\")\n",
    "plt.ylabel(\"Count\")\n",
    "plt.show()"
   ]
  },
  {
   "cell_type": "code",
   "execution_count": 28,
   "id": "13407b2a",
   "metadata": {},
   "outputs": [
    {
     "data": {
      "text/plain": [
       "Index(['label', 'pixel1', 'pixel2', 'pixel3', 'pixel4', 'pixel5', 'pixel6',\n",
       "       'pixel7', 'pixel8', 'pixel9',\n",
       "       ...\n",
       "       'pixel775', 'pixel776', 'pixel777', 'pixel778', 'pixel779', 'pixel780',\n",
       "       'pixel781', 'pixel782', 'pixel783', 'pixel784'],\n",
       "      dtype='object', length=785)"
      ]
     },
     "execution_count": 28,
     "metadata": {},
     "output_type": "execute_result"
    }
   ],
   "source": [
    "df_train_clean.columns"
   ]
  },
  {
   "cell_type": "markdown",
   "id": "1401efdf",
   "metadata": {},
   "source": [
    "## Clean Data"
   ]
  },
  {
   "cell_type": "code",
   "execution_count": 29,
   "id": "aaacac69",
   "metadata": {},
   "outputs": [],
   "source": [
    "df_train_clean.drop_duplicates(inplace=True)"
   ]
  },
  {
   "cell_type": "code",
   "execution_count": 30,
   "id": "7e7ccd12",
   "metadata": {},
   "outputs": [
    {
     "data": {
      "text/plain": [
       "np.int64(0)"
      ]
     },
     "execution_count": 30,
     "metadata": {},
     "output_type": "execute_result"
    }
   ],
   "source": [
    "df_train_clean.duplicated().sum()"
   ]
  },
  {
   "cell_type": "code",
   "execution_count": 31,
   "id": "86aa67b6",
   "metadata": {},
   "outputs": [
    {
     "data": {
      "application/vnd.microsoft.datawrangler.viewer.v0+json": {
       "columns": [
        {
         "name": "index",
         "rawType": "object",
         "type": "string"
        },
        {
         "name": "0",
         "rawType": "object",
         "type": "unknown"
        }
       ],
       "ref": "328329db-566e-470e-b2ba-d6bbbeefa834",
       "rows": [
        [
         "label",
         "int64"
        ],
        [
         "pixel1",
         "object"
        ],
        [
         "pixel2",
         "object"
        ],
        [
         "pixel3",
         "object"
        ],
        [
         "pixel4",
         "object"
        ],
        [
         "pixel5",
         "object"
        ],
        [
         "pixel6",
         "object"
        ],
        [
         "pixel7",
         "object"
        ],
        [
         "pixel8",
         "object"
        ],
        [
         "pixel9",
         "object"
        ],
        [
         "pixel10",
         "object"
        ],
        [
         "pixel11",
         "object"
        ],
        [
         "pixel12",
         "object"
        ],
        [
         "pixel13",
         "object"
        ],
        [
         "pixel14",
         "object"
        ],
        [
         "pixel15",
         "object"
        ],
        [
         "pixel16",
         "object"
        ],
        [
         "pixel17",
         "object"
        ],
        [
         "pixel18",
         "object"
        ],
        [
         "pixel19",
         "object"
        ],
        [
         "pixel20",
         "object"
        ],
        [
         "pixel21",
         "object"
        ],
        [
         "pixel22",
         "object"
        ],
        [
         "pixel23",
         "object"
        ],
        [
         "pixel24",
         "object"
        ],
        [
         "pixel25",
         "object"
        ],
        [
         "pixel26",
         "object"
        ],
        [
         "pixel27",
         "object"
        ],
        [
         "pixel28",
         "object"
        ],
        [
         "pixel29",
         "object"
        ],
        [
         "pixel30",
         "object"
        ],
        [
         "pixel31",
         "object"
        ],
        [
         "pixel32",
         "object"
        ],
        [
         "pixel33",
         "object"
        ],
        [
         "pixel34",
         "object"
        ],
        [
         "pixel35",
         "object"
        ],
        [
         "pixel36",
         "object"
        ],
        [
         "pixel37",
         "object"
        ],
        [
         "pixel38",
         "object"
        ],
        [
         "pixel39",
         "object"
        ],
        [
         "pixel40",
         "object"
        ],
        [
         "pixel41",
         "object"
        ],
        [
         "pixel42",
         "object"
        ],
        [
         "pixel43",
         "object"
        ],
        [
         "pixel44",
         "object"
        ],
        [
         "pixel45",
         "object"
        ],
        [
         "pixel46",
         "object"
        ],
        [
         "pixel47",
         "object"
        ],
        [
         "pixel48",
         "object"
        ],
        [
         "pixel49",
         "object"
        ]
       ],
       "shape": {
        "columns": 1,
        "rows": 785
       }
      },
      "text/plain": [
       "label        int64\n",
       "pixel1      object\n",
       "pixel2      object\n",
       "pixel3      object\n",
       "pixel4      object\n",
       "             ...  \n",
       "pixel780    object\n",
       "pixel781    object\n",
       "pixel782    object\n",
       "pixel783    object\n",
       "pixel784    object\n",
       "Length: 785, dtype: object"
      ]
     },
     "execution_count": 31,
     "metadata": {},
     "output_type": "execute_result"
    }
   ],
   "source": [
    "df_train_clean.dtypes"
   ]
  },
  {
   "cell_type": "code",
   "execution_count": 32,
   "id": "bd8b10e5",
   "metadata": {},
   "outputs": [
    {
     "data": {
      "application/vnd.microsoft.datawrangler.viewer.v0+json": {
       "columns": [
        {
         "name": "index",
         "rawType": "object",
         "type": "string"
        },
        {
         "name": "0",
         "rawType": "object",
         "type": "unknown"
        }
       ],
       "ref": "5f0b9a13-b7a3-49cc-9bb0-4928bfb4688e",
       "rows": [
        [
         "label",
         "int64"
        ],
        [
         "pixel1",
         "float64"
        ],
        [
         "pixel2",
         "float64"
        ],
        [
         "pixel3",
         "float64"
        ],
        [
         "pixel4",
         "float64"
        ],
        [
         "pixel5",
         "float64"
        ],
        [
         "pixel6",
         "float64"
        ],
        [
         "pixel7",
         "float64"
        ],
        [
         "pixel8",
         "float64"
        ],
        [
         "pixel9",
         "float64"
        ],
        [
         "pixel10",
         "float64"
        ],
        [
         "pixel11",
         "float64"
        ],
        [
         "pixel12",
         "float64"
        ],
        [
         "pixel13",
         "float64"
        ],
        [
         "pixel14",
         "float64"
        ],
        [
         "pixel15",
         "float64"
        ],
        [
         "pixel16",
         "float64"
        ],
        [
         "pixel17",
         "float64"
        ],
        [
         "pixel18",
         "float64"
        ],
        [
         "pixel19",
         "float64"
        ],
        [
         "pixel20",
         "float64"
        ],
        [
         "pixel21",
         "float64"
        ],
        [
         "pixel22",
         "float64"
        ],
        [
         "pixel23",
         "float64"
        ],
        [
         "pixel24",
         "float64"
        ],
        [
         "pixel25",
         "float64"
        ],
        [
         "pixel26",
         "float64"
        ],
        [
         "pixel27",
         "float64"
        ],
        [
         "pixel28",
         "float64"
        ],
        [
         "pixel29",
         "float64"
        ],
        [
         "pixel30",
         "float64"
        ],
        [
         "pixel31",
         "float64"
        ],
        [
         "pixel32",
         "float64"
        ],
        [
         "pixel33",
         "float64"
        ],
        [
         "pixel34",
         "float64"
        ],
        [
         "pixel35",
         "float64"
        ],
        [
         "pixel36",
         "float64"
        ],
        [
         "pixel37",
         "float64"
        ],
        [
         "pixel38",
         "float64"
        ],
        [
         "pixel39",
         "float64"
        ],
        [
         "pixel40",
         "float64"
        ],
        [
         "pixel41",
         "float64"
        ],
        [
         "pixel42",
         "float64"
        ],
        [
         "pixel43",
         "float64"
        ],
        [
         "pixel44",
         "float64"
        ],
        [
         "pixel45",
         "float64"
        ],
        [
         "pixel46",
         "float64"
        ],
        [
         "pixel47",
         "float64"
        ],
        [
         "pixel48",
         "float64"
        ],
        [
         "pixel49",
         "float64"
        ]
       ],
       "shape": {
        "columns": 1,
        "rows": 785
       }
      },
      "text/plain": [
       "label         int64\n",
       "pixel1      float64\n",
       "pixel2      float64\n",
       "pixel3      float64\n",
       "pixel4      float64\n",
       "             ...   \n",
       "pixel780    float64\n",
       "pixel781    float64\n",
       "pixel782    float64\n",
       "pixel783    float64\n",
       "pixel784    float64\n",
       "Length: 785, dtype: object"
      ]
     },
     "execution_count": 32,
     "metadata": {},
     "output_type": "execute_result"
    }
   ],
   "source": [
    "# Convert objects to numeric\n",
    "df_train_clean = df_train_clean.apply(pd.to_numeric, errors='coerce')\n",
    "df_train_clean.dtypes"
   ]
  },
  {
   "cell_type": "markdown",
   "id": "9020af15",
   "metadata": {},
   "source": [
    "# Split data in train and test"
   ]
  },
  {
   "cell_type": "code",
   "execution_count": 33,
   "id": "da100d74",
   "metadata": {},
   "outputs": [
    {
     "name": "stdout",
     "output_type": "stream",
     "text": [
      "X_train shape: (21960, 784), y_train shape: (21960,)\n",
      "X_test shape: (5491, 784), y_test shape: (5491,)\n"
     ]
    }
   ],
   "source": [
    "from sklearn.model_selection import train_test_split\n",
    "# Split data in train and test\n",
    "X = df_train_clean.drop(columns=['label'])\n",
    "y = df_train_clean['label']\n",
    "X_train, X_test, y_train, y_test = train_test_split(X,\n",
    "                                                    y,\n",
    "                                                    test_size=0.2,\n",
    "                                                    random_state=42,\n",
    "                                                    stratify=y)\n",
    "# Check the shapes of the splits\n",
    "print(f\"X_train shape: {X_train.shape}, y_train shape: {y_train.shape}\")\n",
    "print(f\"X_test shape: {X_test.shape}, y_test shape: {y_test.shape}\")"
   ]
  },
  {
   "cell_type": "code",
   "execution_count": null,
   "id": "e3d49a5d",
   "metadata": {},
   "outputs": [],
   "source": []
  }
 ],
 "metadata": {
  "kernelspec": {
   "display_name": "ml-py3.12",
   "language": "python",
   "name": "python3"
  },
  "language_info": {
   "codemirror_mode": {
    "name": "ipython",
    "version": 3
   },
   "file_extension": ".py",
   "mimetype": "text/x-python",
   "name": "python",
   "nbconvert_exporter": "python",
   "pygments_lexer": "ipython3",
   "version": "3.12.2"
  }
 },
 "nbformat": 4,
 "nbformat_minor": 5
}
