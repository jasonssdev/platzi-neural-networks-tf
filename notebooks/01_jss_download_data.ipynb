{
 "cells": [
  {
   "cell_type": "code",
   "execution_count": 15,
   "id": "2329112b",
   "metadata": {},
   "outputs": [],
   "source": [
    "import requests\n",
    "import zipfile\n",
    "from pathlib import Path\n",
    "from utils.paths import DATA_RAW_DIR\n",
    "\n",
    "import json\n",
    "import codecs\n",
    "import numpy as np\n",
    "import pandas as pd \n",
    "import matplotlib.pyplot as plt\n",
    "from PIL import Image\n",
    "from io import BytesIO\n",
    "import base64\n",
    "from IPython.display import display\n",
    "\n"
   ]
  },
  {
   "cell_type": "code",
   "execution_count": 3,
   "id": "f5506f0b",
   "metadata": {},
   "outputs": [],
   "source": [
    "# Download data from URL\n",
    "\n",
    "def download_data_from_url(url: str, url_path: Path):\n",
    "    \"\"\"\n",
    "    Download data from a given URL and save it to the specified destination.\n",
    "    \n",
    "    Args:\n",
    "        url (str): The URL to download the data from.\n",
    "        url_path (Path): The destination path where the downloaded file will be saved.\n",
    "    \"\"\"\n",
    "    if not url_path.exists():\n",
    "        response = requests.get(url)\n",
    "        response.raise_for_status()\n",
    "        with open(url_path, 'wb') as file:\n",
    "            file.write(response.content)\n",
    "        print(f\"Downloaded data from {url} to {url_path}\")\n",
    "    else:\n",
    "        print(f\"File already exists at {url_path}, skipping download.\")"
   ]
  },
  {
   "cell_type": "code",
   "execution_count": 4,
   "id": "1639bd64",
   "metadata": {},
   "outputs": [],
   "source": [
    "# Unzip the downloaded file\n",
    "def unzip_file(zip_path: Path, extract_to: Path):\n",
    "    \"\"\"\n",
    "    Unzip a zip file to the specified directory.\n",
    "\n",
    "    Args:\n",
    "        zip_path (Path): The path to the zip file.\n",
    "        extract_to (Path): The directory where the contents will be extracted.\n",
    "    \"\"\"\n",
    "    extract_to.mkdir(parents=True, exist_ok=True)\n",
    "    with zipfile.ZipFile(zip_path, 'r') as zip_ref:\n",
    "        zip_ref.extractall(extract_to)\n",
    "    print(f\"Unzipped {zip_path} to {extract_to}\")\n",
    "    zip_path.unlink() "
   ]
  },
  {
   "cell_type": "code",
   "execution_count": 5,
   "id": "a7825c66",
   "metadata": {},
   "outputs": [
    {
     "name": "stdout",
     "output_type": "stream",
     "text": [
      "Downloaded data from https://storage.googleapis.com/platzi-tf2/databasesLoadData.zip to /Users/jssdev/Dev/Learning/Platzi/platzi-neural-networks-tf/data/raw/sign_language.zip\n",
      "Unzipped /Users/jssdev/Dev/Learning/Platzi/platzi-neural-networks-tf/data/raw/sign_language.zip to /Users/jssdev/Dev/Learning/Platzi/platzi-neural-networks-tf/data/raw/sign_language\n"
     ]
    }
   ],
   "source": [
    "url = \"https://storage.googleapis.com/platzi-tf2/databasesLoadData.zip\"\n",
    "zip_path = DATA_RAW_DIR / \"sign_language.zip\"\n",
    "extract_to = DATA_RAW_DIR / \"sign_language\"\n",
    "\n",
    "download_data_from_url(url, zip_path)\n",
    "unzip_file(zip_path, extract_to)"
   ]
  },
  {
   "cell_type": "code",
   "execution_count": 7,
   "id": "e9bbe18a",
   "metadata": {},
   "outputs": [],
   "source": [
    "def load_json_lines(json_path: Path) -> list[dict]:\n",
    "    \"\"\"Load a JSON file with one JSON object per line.\"\"\"\n",
    "    data_json = []\n",
    "    with open(json_path, 'r', encoding='utf-8') as file:\n",
    "        for line in file:\n",
    "            data_json.append(json.loads(line.strip()))\n",
    "    print(f\"{len(data_json)} found images.\")\n",
    "    return data_json"
   ]
  },
  {
   "cell_type": "code",
   "execution_count": 8,
   "id": "37e4dc08",
   "metadata": {},
   "outputs": [],
   "source": [
    "def download_image_from_url(url: str, to_grayscale: bool = True) -> np.ndarray:\n",
    "    \"\"\"Download an image from a URL and return it as a NumPy array.\"\"\"\n",
    "    response = requests.get(url)\n",
    "    response.raise_for_status()\n",
    "    image = Image.open(BytesIO(response.content))\n",
    "    if to_grayscale:\n",
    "        image = image.convert(\"L\")\n",
    "    return np.array(image)"
   ]
  },
  {
   "cell_type": "code",
   "execution_count": 9,
   "id": "749f0fba",
   "metadata": {},
   "outputs": [],
   "source": [
    "def load_images_with_labels(data_json: list[dict]) -> list[tuple[np.ndarray, str]]:\n",
    "    \"\"\"Download all images from JSON and return them with labels.\"\"\"\n",
    "    images = []\n",
    "    for item in data_json:\n",
    "        img_array = download_image_from_url(item[\"content\"])\n",
    "        images.append((img_array, item[\"label\"]))\n",
    "    return images"
   ]
  },
  {
   "cell_type": "code",
   "execution_count": 10,
   "id": "ea53309c",
   "metadata": {},
   "outputs": [],
   "source": [
    "def show_image(image: np.ndarray, label: str):\n",
    "    \"\"\"Display an image using matplotlib.\"\"\"\n",
    "    plt.imshow(image, cmap=\"gray\")\n",
    "    plt.title(f\"Label: {label}\")\n",
    "    plt.axis(\"off\")\n",
    "    plt.show()"
   ]
  },
  {
   "cell_type": "code",
   "execution_count": 11,
   "id": "e7cf3e82",
   "metadata": {},
   "outputs": [
    {
     "name": "stdout",
     "output_type": "stream",
     "text": [
      "9 found images.\n"
     ]
    },
    {
     "data": {
      "image/png": "[encoded data removed]",
      "text/plain": [
       "<Figure size 640x480 with 1 Axes>"
      ]
     },
     "metadata": {},
     "output_type": "display_data"
    }
   ],
   "source": [
    "json_path = Path(\"data/raw/sign_language/sign_mnist_json/data.json\")\n",
    "\n",
    "data_json = load_json_lines(json_path)\n",
    "images_with_labels = load_images_with_labels(data_json)\n",
    "\n",
    "# Mostrar una imagen de ejemplo\n",
    "show_image(images_with_labels[0][0], images_with_labels[0][1])"
   ]
  },
  {
   "cell_type": "code",
   "execution_count": 13,
   "id": "eee3d961",
   "metadata": {},
   "outputs": [],
   "source": [
    "\n",
    "def load_base64_image_from_json(json_path: Path, key: str = \"b\") -> Image.Image:\n",
    "    \"\"\"\n",
    "    Load an image encoded in base64 from a JSON file and return it as a PIL Image.\n",
    "    \n",
    "    Args:\n",
    "        json_path (Path): Path to the JSON file.\n",
    "        key (str): The key in the JSON that holds the base64 string.\n",
    "        \n",
    "    Returns:\n",
    "        PIL.Image: The decoded image.\n",
    "    \"\"\"\n",
    "    with open(json_path, 'r', encoding='utf-8') as f:\n",
    "        data = json.load(f)\n",
    "    \n",
    "    base64_bytes = data[key].encode('utf-8')\n",
    "    decoded_bytes = base64.b64decode(base64_bytes)\n",
    "    \n",
    "    img = Image.open(BytesIO(decoded_bytes))\n",
    "    return img"
   ]
  },
  {
   "cell_type": "code",
   "execution_count": 16,
   "id": "690cfaad",
   "metadata": {},
   "outputs": [
    {
     "data": {
      "image/jpeg": "[encoded data removed]",
      "image/png": "[encoded data removed]",
      "text/plain": [
       "<PIL.JpegImagePlugin.JpegImageFile image mode=L size=28x28>"
      ]
     },
     "metadata": {},
     "output_type": "display_data"
    }
   ],
   "source": [
    "json_path = Path(\"data/raw/sign_language/sign_mnist_base64/data.json\")\n",
    "img = load_base64_image_from_json(json_path)\n",
    "\n",
    "# Display image\n",
    "display(img)"
   ]
  },
  {
   "cell_type": "code",
   "execution_count": 17,
   "id": "c46f9fd7",
   "metadata": {},
   "outputs": [],
   "source": [
    "\n",
    "def load_sign_mnist_csv(csv_path: Path):\n",
    "    \"\"\"\n",
    "    Load the Sign MNIST dataset from a CSV file.\n",
    "    \n",
    "    Returns:\n",
    "        images (np.ndarray): Array of shape (n_samples, 28, 28)\n",
    "        labels (np.ndarray): Array of labels\n",
    "    \"\"\"\n",
    "    df = pd.read_csv(csv_path)\n",
    "    labels = df['label'].values\n",
    "    df.drop('label', axis=1, inplace=True)\n",
    "    images = df.values.reshape(-1, 28, 28)\n",
    "    return images, labels"
   ]
  },
  {
   "cell_type": "code",
   "execution_count": 18,
   "id": "a1f8c059",
   "metadata": {},
   "outputs": [],
   "source": [
    "def plot_image(image: np.ndarray, label: int):\n",
    "    \"\"\"\n",
    "    Show a single image using matplotlib.\n",
    "    \"\"\"\n",
    "    plt.imshow(image, cmap='gray')\n",
    "    plt.title(f\"Label: {label}\")\n",
    "    plt.axis('off')\n",
    "    plt.show()\n"
   ]
  },
  {
   "cell_type": "code",
   "execution_count": 19,
   "id": "887ea39f",
   "metadata": {},
   "outputs": [
    {
     "data": {
      "image/png": "[encoded data removed]",
      "text/plain": [
       "<Figure size 640x480 with 1 Axes>"
      ]
     },
     "metadata": {},
     "output_type": "display_data"
    }
   ],
   "source": [
    "train_csv = Path(\"data/raw/sign_language/sign_mnist_train/sign_mnist_train.csv\")\n",
    "test_csv = Path(\"data/raw/sign_language/sign_mnist_test/sign_mnist_test.csv\")\n",
    "\n",
    "train_images, train_labels = load_sign_mnist_csv(train_csv)\n",
    "test_images, test_labels = load_sign_mnist_csv(test_csv)\n",
    "\n",
    "plot_image(train_images[1], train_labels[1])"
   ]
  },
  {
   "cell_type": "code",
   "execution_count": null,
   "id": "05729955",
   "metadata": {},
   "outputs": [],
   "source": []
  }
 ],
 "metadata": {
  "kernelspec": {
   "display_name": "ml-py3.12",
   "language": "python",
   "name": "python3"
  },
  "language_info": {
   "codemirror_mode": {
    "name": "ipython",
    "version": 3
   },
   "file_extension": ".py",
   "mimetype": "text/x-python",
   "name": "python",
   "nbconvert_exporter": "python",
   "pygments_lexer": "ipython3",
   "version": "3.12.2"
  }
 },
 "nbformat": 4,
 "nbformat_minor": 5
}
